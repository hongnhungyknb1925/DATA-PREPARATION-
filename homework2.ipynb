{
  "nbformat": 4,
  "nbformat_minor": 0,
  "metadata": {
    "colab": {
      "name": "Untitled0.ipynb",
      "provenance": [],
      "authorship_tag": "ABX9TyNV7ZjM0BF/XA0NW3CwAXTP",
      "include_colab_link": true
    },
    "kernelspec": {
      "name": "python3",
      "display_name": "Python 3"
    },
    "language_info": {
      "name": "python"
    }
  },
  "cells": [
    {
      "cell_type": "markdown",
      "metadata": {
        "id": "view-in-github",
        "colab_type": "text"
      },
      "source": [
        "<a href=\"https://colab.research.google.com/github/hongnhungyknb1925/DATA-PREPARATION-/blob/main/homework2.ipynb\" target=\"_parent\"><img src=\"https://colab.research.google.com/assets/colab-badge.svg\" alt=\"Open In Colab\"/></a>"
      ]
    },
    {
      "cell_type": "code",
      "metadata": {
        "id": "jBl2YgL6X0ed"
      },
      "source": [
        "from __future__ import print_function \n",
        "import numpy as np\n",
        "import matplotlib.pyplot as plt\n",
        "from scipy.spatial.distance import cdist\n",
        "np.random.seed(11)"
      ],
      "execution_count": 1,
      "outputs": []
    },
    {
      "cell_type": "code",
      "metadata": {
        "id": "TSGhwaAoX5Tk"
      },
      "source": [
        "means = [[2, 2], [8, 3], [3, 6]]\n",
        "cov = [[1, 0], [0, 1]]\n",
        "N = 500\n",
        "X0 = np.random.multivariate_normal(means[0], cov, N)\n",
        "X1 = np.random.multivariate_normal(means[1], cov, N)\n",
        "X2 = np.random.multivariate_normal(means[2], cov, N)\n",
        "\n",
        "X = np.concatenate((X0, X1, X2), axis = 0)\n",
        "K = 3\n",
        "\n",
        "original_label = np.asarray([0]*N + [1]*N + [2]*N).T"
      ],
      "execution_count": 2,
      "outputs": []
    },
    {
      "cell_type": "code",
      "metadata": {
        "id": "5R-ae75TX7n8"
      },
      "source": [
        "def kmeans_display(X, label):\n",
        "    K = np.amax(label) + 1\n",
        "    X0 = X[label == 0, :]\n",
        "    X1 = X[label == 1, :]\n",
        "    X2 = X[label == 2, :]\n",
        "    \n",
        "    plt.plot(X0[:, 0], X0[:, 1], 'b^', markersize = 4, alpha = .8)\n",
        "    plt.plot(X1[:, 0], X1[:, 1], 'go', markersize = 4, alpha = .8)\n",
        "    plt.plot(X2[:, 0], X2[:, 1], 'rs', markersize = 4, alpha = .8)\n",
        "\n",
        "    plt.axis('equal')\n",
        "    plt.plot()\n",
        "    plt.show()\n",
        "    \n",
        "kmeans_display(X, original_label)"
      ],
      "execution_count": null,
      "outputs": []
    },
    {
      "cell_type": "code",
      "metadata": {
        "id": "DqqGOGCrX7qs"
      },
      "source": [
        "def kmeans_init_centers(X, k):\n",
        "  return X[np.random.choice(X.shape[0], k, replace=False)]\n",
        "\n",
        "def kmeans_assign_labels(X, centers):\n",
        "  D = cdist(X, centers)\n",
        "  return np.argmin(D, axis = 1)\n",
        "\n",
        "def kmeans_update_centers(X, labels, K):\n",
        "  centers = np.zeros((K, X.shape[1]))\n",
        "  for k in range(K):\n",
        "    Xk = X[labels == k, :]\n",
        "  centers[k,:] = np.mean(Xk, axis = 0)\n",
        "  return centers\n",
        "\n",
        "def has_converged(centers, new_centers):\n",
        "  return (set([tuple(a) for a in centers]) == set([tuple(a) for a in new_centers]))"
      ],
      "execution_count": null,
      "outputs": []
    },
    {
      "cell_type": "code",
      "metadata": {
        "id": "Sm4EPDomX7tn"
      },
      "source": [
        "def kmeans(X, K):\n",
        "  centers = [kmeans_init_centers(X, K)]\n",
        "  labels = []\n",
        "  it = 0 \n",
        "  while True:\n",
        "    labels.append(kmeans_assign_labels(X, centers[-1]))\n",
        "    new_centers = kmeans_update_centers(X, labels[-1], K)\n",
        "    if has_converged(centers[-1], new_centers):\n",
        "      break\n",
        "    centers.append(new_centers)\n",
        "    it += 1\n",
        "    return (centers, labels, it)"
      ],
      "execution_count": null,
      "outputs": []
    },
    {
      "cell_type": "code",
      "metadata": {
        "id": "cyReeuZ1YD6j"
      },
      "source": [
        "(centers, labels, it) = kmeans(X, K)\n",
        "print('Centers found by our algorithm:')\n",
        "print(centers[-1])\n",
        "\n",
        "kmeans_display(X, labels[-1])"
      ],
      "execution_count": null,
      "outputs": []
    }
  ]
}