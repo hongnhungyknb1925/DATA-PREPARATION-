{
  "nbformat": 4,
  "nbformat_minor": 0,
  "metadata": {
    "colab": {
      "name": "regression_b1.ipynb",
      "provenance": [],
      "collapsed_sections": []
    },
    "kernelspec": {
      "name": "python3",
      "display_name": "Python 3"
    },
    "language_info": {
      "name": "python"
    }
  },
  "cells": [
    {
      "cell_type": "markdown",
      "metadata": {
        "id": "HU9NTMj8X0YX"
      },
      "source": [
        "EDA dữ liệu, xử lý dữ liệu dạng text, category, xử lý outlierm chạy thuật toán LR, KNN (tune tham số k), SVM (tune tham số kernel, C) cho dữ liệu:\n",
        "1. 1. https://www.kaggle.com/uciml/red-wine-quality-cortez-et-al-2009"
      ]
    },
    {
      "cell_type": "code",
      "metadata": {
        "id": "M5r7dJF4wl9N"
      },
      "source": [
        "# Regression bao gồm \n",
        "# Linear regression \n",
        "#  SVR, GPR \n",
        "#  Ensemble methods \n",
        "# Decision Tree\n",
        "#  Neurol Networks \n"
      ],
      "execution_count": 248,
      "outputs": []
    },
    {
      "cell_type": "markdown",
      "metadata": {
        "id": "Zb8GO0yPyWj1"
      },
      "source": [
        "1. Exploratory\n",
        "\n",
        "1.1\n",
        "- In shape\n",
        "- In head\n",
        "- In quality distribution\n",
        "1.2 Xem data type và missing values\n",
        "- Xử lý riêng date time/ object \n",
        "- xử lý missing values \n",
        "1.3 In column informationl \\\n",
        "1.4 Xem outlier qua các box plot\\\n",
        "1.5 Tính correlation giữa các features \n",
        "\n",
        "2. Train test split \n",
        "- chia dữ liệu của model \\\n",
        "< from sklearn.model_selection import train_test_split >\n",
        "\n",
        "3. Scalling feature \n",
        "- Gadient decent \n",
        "- khoảng cách: thuật toán k-NN regression : lấy k điểm gần nhất -> lấy trung bình cộng để dự đoán dữ liệu mới\n",
        "+ Standardization: X' = (X - mu)/ sigma\n",
        "+ Normalization: X' = (X - X_min) / (X_max - X_min)\n",
        "+ Robust scalling: X' = (X - X_median)/IQR -> giảm bớt outlier \n",
        "+ RMSE = sqrt(MSE) mean square error -> cho biết sai số của từng điểm dữ liệu \n",
        "RMSE = sqrt(1/n * (y - y^)^2)\n",
        "-> RMSE càng nhỏ thì model đó càng tốt.\n",
        "\n",
        "4. Các thuật toán\n",
        "- SVM: support vecto machine  \n",
        "- SVR: support vecto regression \n",
        "- SVC: support vecto classification \n",
        "\n",
        "5. Encoding data \n",
        "\n",
        "a) Binary: chỉ có 2 giá trị\n",
        "ex: male / female \n",
        "\n",
        "b) Ordinal: các giá trị có thứ tự \n",
        "ex: low/ medium/ high \\\n",
        "ý tưởng: chuyển các giá trị chữ về thành số \\\n",
        "code \\ \n",
        "encoder = ce.OrdinalEncoder(cols = ['Degree'], return_df = True, mapping = [{'col': 'Degree', 'mapping': {'None': 0, 'Hight school': 1 , 'Diploma': 2}}])\n",
        "\n",
        "c) Norminal: không có thứ tự \n",
        "ex: dog/cat/tiger\n",
        "\n",
        "5.1 Target Encoding \n",
        "- lấy trung bình cộng của các điểm chữ để encoding \n",
        "\n",
        "6. Missing values \n",
        "\n",
        "6.1. fill gt min \n",
        "6.2 fill bằng thuật toán KNN : lấy giá trị gần điểm đó để điền vào NaN \n",
        "6.3 dropna bỏ các gt NaN đi \n",
        "\n",
        "7. Pipeline \n",
        "\n",
        "8. Metrics - dùng để đánh giá model \n",
        "\n",
        "R^2 \\ \n",
        "\n",
        "adjust R^2: càng lớn càng tốt \\\n",
        "\n",
        "MAE: tỉ lệ lỗi (Mean absolute error)\n",
        "\n",
        "MAPE: mean abdolute percentage error \n",
        "\n",
        "\n",
        " \n",
        "\n",
        "\n",
        "\n",
        "\n",
        "\n",
        " \n"
      ]
    },
    {
      "cell_type": "code",
      "metadata": {
        "id": "GIyR6BfzyIzg"
      },
      "source": [
        "import pandas as pd \n",
        "import numpy as np\n",
        "import matplotlib.pyplot as plt\n"
      ],
      "execution_count": 249,
      "outputs": []
    },
    {
      "cell_type": "code",
      "metadata": {
        "id": "a-sO-cLXxmgb",
        "colab": {
          "base_uri": "https://localhost:8080/",
          "height": 198
        },
        "outputId": "3b0b2402-27a2-4342-c754-cadd83f9749c"
      },
      "source": [
        "dt = pd.read_csv(\"https://raw.githubusercontent.com/hongnhungyknb1925/DATA-PREPARATION-/main/week%207/winequality-red.csv\")\n",
        "dt.head(3)"
      ],
      "execution_count": 250,
      "outputs": [
        {
          "output_type": "execute_result",
          "data": {
            "text/html": [
              "<div>\n",
              "<style scoped>\n",
              "    .dataframe tbody tr th:only-of-type {\n",
              "        vertical-align: middle;\n",
              "    }\n",
              "\n",
              "    .dataframe tbody tr th {\n",
              "        vertical-align: top;\n",
              "    }\n",
              "\n",
              "    .dataframe thead th {\n",
              "        text-align: right;\n",
              "    }\n",
              "</style>\n",
              "<table border=\"1\" class=\"dataframe\">\n",
              "  <thead>\n",
              "    <tr style=\"text-align: right;\">\n",
              "      <th></th>\n",
              "      <th>fixed acidity</th>\n",
              "      <th>volatile acidity</th>\n",
              "      <th>citric acid</th>\n",
              "      <th>residual sugar</th>\n",
              "      <th>chlorides</th>\n",
              "      <th>free sulfur dioxide</th>\n",
              "      <th>total sulfur dioxide</th>\n",
              "      <th>density</th>\n",
              "      <th>pH</th>\n",
              "      <th>sulphates</th>\n",
              "      <th>alcohol</th>\n",
              "      <th>quality</th>\n",
              "    </tr>\n",
              "  </thead>\n",
              "  <tbody>\n",
              "    <tr>\n",
              "      <th>0</th>\n",
              "      <td>7.4</td>\n",
              "      <td>0.70</td>\n",
              "      <td>0.00</td>\n",
              "      <td>1.9</td>\n",
              "      <td>0.076</td>\n",
              "      <td>11.0</td>\n",
              "      <td>34.0</td>\n",
              "      <td>0.9978</td>\n",
              "      <td>3.51</td>\n",
              "      <td>0.56</td>\n",
              "      <td>9.4</td>\n",
              "      <td>5</td>\n",
              "    </tr>\n",
              "    <tr>\n",
              "      <th>1</th>\n",
              "      <td>7.8</td>\n",
              "      <td>0.88</td>\n",
              "      <td>0.00</td>\n",
              "      <td>2.6</td>\n",
              "      <td>0.098</td>\n",
              "      <td>25.0</td>\n",
              "      <td>67.0</td>\n",
              "      <td>0.9968</td>\n",
              "      <td>3.20</td>\n",
              "      <td>0.68</td>\n",
              "      <td>9.8</td>\n",
              "      <td>5</td>\n",
              "    </tr>\n",
              "    <tr>\n",
              "      <th>2</th>\n",
              "      <td>7.8</td>\n",
              "      <td>0.76</td>\n",
              "      <td>0.04</td>\n",
              "      <td>2.3</td>\n",
              "      <td>0.092</td>\n",
              "      <td>15.0</td>\n",
              "      <td>54.0</td>\n",
              "      <td>0.9970</td>\n",
              "      <td>3.26</td>\n",
              "      <td>0.65</td>\n",
              "      <td>9.8</td>\n",
              "      <td>5</td>\n",
              "    </tr>\n",
              "  </tbody>\n",
              "</table>\n",
              "</div>"
            ],
            "text/plain": [
              "   fixed acidity  volatile acidity  citric acid  ...  sulphates  alcohol  quality\n",
              "0            7.4              0.70         0.00  ...       0.56      9.4        5\n",
              "1            7.8              0.88         0.00  ...       0.68      9.8        5\n",
              "2            7.8              0.76         0.04  ...       0.65      9.8        5\n",
              "\n",
              "[3 rows x 12 columns]"
            ]
          },
          "metadata": {},
          "execution_count": 250
        }
      ]
    },
    {
      "cell_type": "code",
      "metadata": {
        "id": "LXXo2I9RxmkH",
        "colab": {
          "base_uri": "https://localhost:8080/"
        },
        "outputId": "83b3de82-e95f-475b-f60b-9a50d63eb188"
      },
      "source": [
        "dt.shape"
      ],
      "execution_count": 251,
      "outputs": [
        {
          "output_type": "execute_result",
          "data": {
            "text/plain": [
              "(1599, 12)"
            ]
          },
          "metadata": {},
          "execution_count": 251
        }
      ]
    },
    {
      "cell_type": "code",
      "metadata": {
        "colab": {
          "base_uri": "https://localhost:8080/"
        },
        "id": "zxWqTneCZmL3",
        "outputId": "90dbbb9c-dc44-44f5-aaff-310793a00b81"
      },
      "source": [
        "# information about the data columns\n",
        "dt.info()"
      ],
      "execution_count": 252,
      "outputs": [
        {
          "output_type": "stream",
          "name": "stdout",
          "text": [
            "<class 'pandas.core.frame.DataFrame'>\n",
            "RangeIndex: 1599 entries, 0 to 1598\n",
            "Data columns (total 12 columns):\n",
            " #   Column                Non-Null Count  Dtype  \n",
            "---  ------                --------------  -----  \n",
            " 0   fixed acidity         1599 non-null   float64\n",
            " 1   volatile acidity      1599 non-null   float64\n",
            " 2   citric acid           1599 non-null   float64\n",
            " 3   residual sugar        1599 non-null   float64\n",
            " 4   chlorides             1599 non-null   float64\n",
            " 5   free sulfur dioxide   1599 non-null   float64\n",
            " 6   total sulfur dioxide  1599 non-null   float64\n",
            " 7   density               1599 non-null   float64\n",
            " 8   pH                    1599 non-null   float64\n",
            " 9   sulphates             1599 non-null   float64\n",
            " 10  alcohol               1599 non-null   float64\n",
            " 11  quality               1599 non-null   int64  \n",
            "dtypes: float64(11), int64(1)\n",
            "memory usage: 150.0 KB\n"
          ]
        }
      ]
    },
    {
      "cell_type": "code",
      "metadata": {
        "colab": {
          "base_uri": "https://localhost:8080/",
          "height": 282
        },
        "id": "19u6fkkzZmPW",
        "outputId": "d8f60d10-cc7a-47d4-f7e7-3353974bb62a"
      },
      "source": [
        "dt['quality'].plot(kind = 'hist',bins = 6 )"
      ],
      "execution_count": 253,
      "outputs": [
        {
          "output_type": "execute_result",
          "data": {
            "text/plain": [
              "<matplotlib.axes._subplots.AxesSubplot at 0x7fb7cca83ad0>"
            ]
          },
          "metadata": {},
          "execution_count": 253
        },
        {
          "output_type": "display_data",
          "data": {
            "image/png": "[encoded data removed]",
            "text/plain": [
              "<Figure size 432x288 with 1 Axes>"
            ]
          },
          "metadata": {
            "needs_background": "light"
          }
        }
      ]
    },
    {
      "cell_type": "code",
      "metadata": {
        "colab": {
          "base_uri": "https://localhost:8080/",
          "height": 602
        },
        "id": "VZxWiHMzZmSx",
        "outputId": "d2be0f38-3158-4bce-e75b-beaf424c0ff5"
      },
      "source": [
        "# vẽ correaltion \n",
        "corr = dt.corr()\n",
        "corr.style.background_gradient(cmap = 'coolwarm').set_precision(2)"
      ],
      "execution_count": 254,
      "outputs": [
        {
          "output_type": "execute_result",
          "data": {
            "text/html": [
              "<style  type=\"text/css\" >\n",
              "#T_89a11f88_4ae5_11ec_8fc3_0242ac1c0002row0_col0,#T_89a11f88_4ae5_11ec_8fc3_0242ac1c0002row1_col1,#T_89a11f88_4ae5_11ec_8fc3_0242ac1c0002row2_col2,#T_89a11f88_4ae5_11ec_8fc3_0242ac1c0002row3_col3,#T_89a11f88_4ae5_11ec_8fc3_0242ac1c0002row4_col4,#T_89a11f88_4ae5_11ec_8fc3_0242ac1c0002row5_col5,#T_89a11f88_4ae5_11ec_8fc3_0242ac1c0002row6_col6,#T_89a11f88_4ae5_11ec_8fc3_0242ac1c0002row7_col7,#T_89a11f88_4ae5_11ec_8fc3_0242ac1c0002row8_col8,#T_89a11f88_4ae5_11ec_8fc3_0242ac1c0002row9_col9,#T_89a11f88_4ae5_11ec_8fc3_0242ac1c0002row10_col10,#T_89a11f88_4ae5_11ec_8fc3_0242ac1c0002row11_col11{\n",
              "            background-color:  #b40426;\n",
              "            color:  #f1f1f1;\n",
              "        }#T_89a11f88_4ae5_11ec_8fc3_0242ac1c0002row0_col1,#T_89a11f88_4ae5_11ec_8fc3_0242ac1c0002row4_col11,#T_89a11f88_4ae5_11ec_8fc3_0242ac1c0002row9_col1{\n",
              "            background-color:  #779af7;\n",
              "            color:  #000000;\n",
              "        }#T_89a11f88_4ae5_11ec_8fc3_0242ac1c0002row0_col2{\n",
              "            background-color:  #f08a6c;\n",
              "            color:  #000000;\n",
              "        }#T_89a11f88_4ae5_11ec_8fc3_0242ac1c0002row0_col3,#T_89a11f88_4ae5_11ec_8fc3_0242ac1c0002row4_col10{\n",
              "            background-color:  #7699f6;\n",
              "            color:  #000000;\n",
              "        }#T_89a11f88_4ae5_11ec_8fc3_0242ac1c0002row0_col4{\n",
              "            background-color:  #98b9ff;\n",
              "            color:  #000000;\n",
              "        }#T_89a11f88_4ae5_11ec_8fc3_0242ac1c0002row0_col5,#T_89a11f88_4ae5_11ec_8fc3_0242ac1c0002row0_col8,#T_89a11f88_4ae5_11ec_8fc3_0242ac1c0002row1_col2,#T_89a11f88_4ae5_11ec_8fc3_0242ac1c0002row1_col9,#T_89a11f88_4ae5_11ec_8fc3_0242ac1c0002row1_col11,#T_89a11f88_4ae5_11ec_8fc3_0242ac1c0002row2_col1,#T_89a11f88_4ae5_11ec_8fc3_0242ac1c0002row7_col10,#T_89a11f88_4ae5_11ec_8fc3_0242ac1c0002row8_col0,#T_89a11f88_4ae5_11ec_8fc3_0242ac1c0002row8_col3,#T_89a11f88_4ae5_11ec_8fc3_0242ac1c0002row8_col4,#T_89a11f88_4ae5_11ec_8fc3_0242ac1c0002row10_col6,#T_89a11f88_4ae5_11ec_8fc3_0242ac1c0002row10_col7{\n",
              "            background-color:  #3b4cc0;\n",
              "            color:  #f1f1f1;\n",
              "        }#T_89a11f88_4ae5_11ec_8fc3_0242ac1c0002row0_col6{\n",
              "            background-color:  #516ddb;\n",
              "            color:  #000000;\n",
              "        }#T_89a11f88_4ae5_11ec_8fc3_0242ac1c0002row0_col7{\n",
              "            background-color:  #f18d6f;\n",
              "            color:  #000000;\n",
              "        }#T_89a11f88_4ae5_11ec_8fc3_0242ac1c0002row0_col9,#T_89a11f88_4ae5_11ec_8fc3_0242ac1c0002row3_col8{\n",
              "            background-color:  #b1cbfc;\n",
              "            color:  #000000;\n",
              "        }#T_89a11f88_4ae5_11ec_8fc3_0242ac1c0002row0_col10,#T_89a11f88_4ae5_11ec_8fc3_0242ac1c0002row3_col11{\n",
              "            background-color:  #9bbcff;\n",
              "            color:  #000000;\n",
              "        }#T_89a11f88_4ae5_11ec_8fc3_0242ac1c0002row0_col11,#T_89a11f88_4ae5_11ec_8fc3_0242ac1c0002row2_col4,#T_89a11f88_4ae5_11ec_8fc3_0242ac1c0002row7_col1,#T_89a11f88_4ae5_11ec_8fc3_0242ac1c0002row7_col4,#T_89a11f88_4ae5_11ec_8fc3_0242ac1c0002row10_col0{\n",
              "            background-color:  #b6cefa;\n",
              "            color:  #000000;\n",
              "        }#T_89a11f88_4ae5_11ec_8fc3_0242ac1c0002row1_col0,#T_89a11f88_4ae5_11ec_8fc3_0242ac1c0002row3_col4,#T_89a11f88_4ae5_11ec_8fc3_0242ac1c0002row5_col3{\n",
              "            background-color:  #8db0fe;\n",
              "            color:  #000000;\n",
              "        }#T_89a11f88_4ae5_11ec_8fc3_0242ac1c0002row1_col3,#T_89a11f88_4ae5_11ec_8fc3_0242ac1c0002row2_col5{\n",
              "            background-color:  #536edd;\n",
              "            color:  #000000;\n",
              "        }#T_89a11f88_4ae5_11ec_8fc3_0242ac1c0002row1_col4{\n",
              "            background-color:  #90b2fe;\n",
              "            color:  #000000;\n",
              "        }#T_89a11f88_4ae5_11ec_8fc3_0242ac1c0002row1_col5{\n",
              "            background-color:  #6180e9;\n",
              "            color:  #000000;\n",
              "        }#T_89a11f88_4ae5_11ec_8fc3_0242ac1c0002row1_col6{\n",
              "            background-color:  #86a9fc;\n",
              "            color:  #000000;\n",
              "        }#T_89a11f88_4ae5_11ec_8fc3_0242ac1c0002row1_col7{\n",
              "            background-color:  #aec9fc;\n",
              "            color:  #000000;\n",
              "        }#T_89a11f88_4ae5_11ec_8fc3_0242ac1c0002row1_col8{\n",
              "            background-color:  #e8d6cc;\n",
              "            color:  #000000;\n",
              "        }#T_89a11f88_4ae5_11ec_8fc3_0242ac1c0002row1_col10{\n",
              "            background-color:  #7a9df8;\n",
              "            color:  #000000;\n",
              "        }#T_89a11f88_4ae5_11ec_8fc3_0242ac1c0002row2_col0{\n",
              "            background-color:  #ec8165;\n",
              "            color:  #000000;\n",
              "        }#T_89a11f88_4ae5_11ec_8fc3_0242ac1c0002row2_col3,#T_89a11f88_4ae5_11ec_8fc3_0242ac1c0002row3_col9,#T_89a11f88_4ae5_11ec_8fc3_0242ac1c0002row5_col4,#T_89a11f88_4ae5_11ec_8fc3_0242ac1c0002row11_col7{\n",
              "            background-color:  #80a3fa;\n",
              "            color:  #000000;\n",
              "        }#T_89a11f88_4ae5_11ec_8fc3_0242ac1c0002row2_col6,#T_89a11f88_4ae5_11ec_8fc3_0242ac1c0002row7_col8{\n",
              "            background-color:  #7b9ff9;\n",
              "            color:  #000000;\n",
              "        }#T_89a11f88_4ae5_11ec_8fc3_0242ac1c0002row2_col7{\n",
              "            background-color:  #eed0c0;\n",
              "            color:  #000000;\n",
              "        }#T_89a11f88_4ae5_11ec_8fc3_0242ac1c0002row2_col8,#T_89a11f88_4ae5_11ec_8fc3_0242ac1c0002row9_col3{\n",
              "            background-color:  #5470de;\n",
              "            color:  #000000;\n",
              "        }#T_89a11f88_4ae5_11ec_8fc3_0242ac1c0002row2_col9{\n",
              "            background-color:  #d1dae9;\n",
              "            color:  #000000;\n",
              "        }#T_89a11f88_4ae5_11ec_8fc3_0242ac1c0002row2_col10,#T_89a11f88_4ae5_11ec_8fc3_0242ac1c0002row6_col1,#T_89a11f88_4ae5_11ec_8fc3_0242ac1c0002row7_col3{\n",
              "            background-color:  #c1d4f4;\n",
              "            color:  #000000;\n",
              "        }#T_89a11f88_4ae5_11ec_8fc3_0242ac1c0002row2_col11{\n",
              "            background-color:  #cdd9ec;\n",
              "            color:  #000000;\n",
              "        }#T_89a11f88_4ae5_11ec_8fc3_0242ac1c0002row3_col0{\n",
              "            background-color:  #d6dce4;\n",
              "            color:  #000000;\n",
              "        }#T_89a11f88_4ae5_11ec_8fc3_0242ac1c0002row3_col1{\n",
              "            background-color:  #b2ccfb;\n",
              "            color:  #000000;\n",
              "        }#T_89a11f88_4ae5_11ec_8fc3_0242ac1c0002row3_col2,#T_89a11f88_4ae5_11ec_8fc3_0242ac1c0002row5_col8{\n",
              "            background-color:  #cedaeb;\n",
              "            color:  #000000;\n",
              "        }#T_89a11f88_4ae5_11ec_8fc3_0242ac1c0002row3_col5{\n",
              "            background-color:  #9dbdff;\n",
              "            color:  #000000;\n",
              "        }#T_89a11f88_4ae5_11ec_8fc3_0242ac1c0002row3_col6,#T_89a11f88_4ae5_11ec_8fc3_0242ac1c0002row6_col0{\n",
              "            background-color:  #abc8fd;\n",
              "            color:  #000000;\n",
              "        }#T_89a11f88_4ae5_11ec_8fc3_0242ac1c0002row3_col7{\n",
              "            background-color:  #edd2c3;\n",
              "            color:  #000000;\n",
              "        }#T_89a11f88_4ae5_11ec_8fc3_0242ac1c0002row3_col10{\n",
              "            background-color:  #b3cdfb;\n",
              "            color:  #000000;\n",
              "        }#T_89a11f88_4ae5_11ec_8fc3_0242ac1c0002row4_col0,#T_89a11f88_4ae5_11ec_8fc3_0242ac1c0002row9_col11{\n",
              "            background-color:  #d3dbe7;\n",
              "            color:  #000000;\n",
              "        }#T_89a11f88_4ae5_11ec_8fc3_0242ac1c0002row4_col1{\n",
              "            background-color:  #bfd3f6;\n",
              "            color:  #000000;\n",
              "        }#T_89a11f88_4ae5_11ec_8fc3_0242ac1c0002row4_col2{\n",
              "            background-color:  #d9dce1;\n",
              "            color:  #000000;\n",
              "        }#T_89a11f88_4ae5_11ec_8fc3_0242ac1c0002row4_col3{\n",
              "            background-color:  #6384eb;\n",
              "            color:  #000000;\n",
              "        }#T_89a11f88_4ae5_11ec_8fc3_0242ac1c0002row4_col5{\n",
              "            background-color:  #6687ed;\n",
              "            color:  #000000;\n",
              "        }#T_89a11f88_4ae5_11ec_8fc3_0242ac1c0002row4_col6{\n",
              "            background-color:  #7ea1fa;\n",
              "            color:  #000000;\n",
              "        }#T_89a11f88_4ae5_11ec_8fc3_0242ac1c0002row4_col7{\n",
              "            background-color:  #d4dbe6;\n",
              "            color:  #000000;\n",
              "        }#T_89a11f88_4ae5_11ec_8fc3_0242ac1c0002row4_col8,#T_89a11f88_4ae5_11ec_8fc3_0242ac1c0002row5_col9,#T_89a11f88_4ae5_11ec_8fc3_0242ac1c0002row6_col4{\n",
              "            background-color:  #8caffe;\n",
              "            color:  #000000;\n",
              "        }#T_89a11f88_4ae5_11ec_8fc3_0242ac1c0002row4_col9,#T_89a11f88_4ae5_11ec_8fc3_0242ac1c0002row9_col4,#T_89a11f88_4ae5_11ec_8fc3_0242ac1c0002row11_col2{\n",
              "            background-color:  #dddcdc;\n",
              "            color:  #000000;\n",
              "        }#T_89a11f88_4ae5_11ec_8fc3_0242ac1c0002row5_col0{\n",
              "            background-color:  #a3c2fe;\n",
              "            color:  #000000;\n",
              "        }#T_89a11f88_4ae5_11ec_8fc3_0242ac1c0002row5_col1{\n",
              "            background-color:  #afcafc;\n",
              "            color:  #000000;\n",
              "        }#T_89a11f88_4ae5_11ec_8fc3_0242ac1c0002row5_col2,#T_89a11f88_4ae5_11ec_8fc3_0242ac1c0002row5_col7{\n",
              "            background-color:  #a5c3fe;\n",
              "            color:  #000000;\n",
              "        }#T_89a11f88_4ae5_11ec_8fc3_0242ac1c0002row5_col6{\n",
              "            background-color:  #f6a385;\n",
              "            color:  #000000;\n",
              "        }#T_89a11f88_4ae5_11ec_8fc3_0242ac1c0002row5_col10,#T_89a11f88_4ae5_11ec_8fc3_0242ac1c0002row9_col8{\n",
              "            background-color:  #9abbff;\n",
              "            color:  #000000;\n",
              "        }#T_89a11f88_4ae5_11ec_8fc3_0242ac1c0002row5_col11{\n",
              "            background-color:  #8badfd;\n",
              "            color:  #000000;\n",
              "        }#T_89a11f88_4ae5_11ec_8fc3_0242ac1c0002row6_col2{\n",
              "            background-color:  #b9d0f9;\n",
              "            color:  #000000;\n",
              "        }#T_89a11f88_4ae5_11ec_8fc3_0242ac1c0002row6_col3{\n",
              "            background-color:  #93b5fe;\n",
              "            color:  #000000;\n",
              "        }#T_89a11f88_4ae5_11ec_8fc3_0242ac1c0002row6_col5{\n",
              "            background-color:  #f7a889;\n",
              "            color:  #000000;\n",
              "        }#T_89a11f88_4ae5_11ec_8fc3_0242ac1c0002row6_col7{\n",
              "            background-color:  #bad0f8;\n",
              "            color:  #000000;\n",
              "        }#T_89a11f88_4ae5_11ec_8fc3_0242ac1c0002row6_col8{\n",
              "            background-color:  #b5cdfa;\n",
              "            color:  #000000;\n",
              "        }#T_89a11f88_4ae5_11ec_8fc3_0242ac1c0002row6_col9,#T_89a11f88_4ae5_11ec_8fc3_0242ac1c0002row8_col11{\n",
              "            background-color:  #89acfd;\n",
              "            color:  #000000;\n",
              "        }#T_89a11f88_4ae5_11ec_8fc3_0242ac1c0002row6_col10,#T_89a11f88_4ae5_11ec_8fc3_0242ac1c0002row8_col5{\n",
              "            background-color:  #799cf8;\n",
              "            color:  #000000;\n",
              "        }#T_89a11f88_4ae5_11ec_8fc3_0242ac1c0002row6_col11{\n",
              "            background-color:  #688aef;\n",
              "            color:  #000000;\n",
              "        }#T_89a11f88_4ae5_11ec_8fc3_0242ac1c0002row7_col0{\n",
              "            background-color:  #ed8366;\n",
              "            color:  #000000;\n",
              "        }#T_89a11f88_4ae5_11ec_8fc3_0242ac1c0002row7_col2{\n",
              "            background-color:  #f1cdba;\n",
              "            color:  #000000;\n",
              "        }#T_89a11f88_4ae5_11ec_8fc3_0242ac1c0002row7_col5,#T_89a11f88_4ae5_11ec_8fc3_0242ac1c0002row8_col6{\n",
              "            background-color:  #5e7de7;\n",
              "            color:  #000000;\n",
              "        }#T_89a11f88_4ae5_11ec_8fc3_0242ac1c0002row7_col6{\n",
              "            background-color:  #85a8fc;\n",
              "            color:  #000000;\n",
              "        }#T_89a11f88_4ae5_11ec_8fc3_0242ac1c0002row7_col9{\n",
              "            background-color:  #a7c5fe;\n",
              "            color:  #000000;\n",
              "        }#T_89a11f88_4ae5_11ec_8fc3_0242ac1c0002row7_col11{\n",
              "            background-color:  #6b8df0;\n",
              "            color:  #000000;\n",
              "        }#T_89a11f88_4ae5_11ec_8fc3_0242ac1c0002row8_col1{\n",
              "            background-color:  #dedcdb;\n",
              "            color:  #000000;\n",
              "        }#T_89a11f88_4ae5_11ec_8fc3_0242ac1c0002row8_col2{\n",
              "            background-color:  #3c4ec2;\n",
              "            color:  #f1f1f1;\n",
              "        }#T_89a11f88_4ae5_11ec_8fc3_0242ac1c0002row8_col7,#T_89a11f88_4ae5_11ec_8fc3_0242ac1c0002row11_col1{\n",
              "            background-color:  #5a78e4;\n",
              "            color:  #000000;\n",
              "        }#T_89a11f88_4ae5_11ec_8fc3_0242ac1c0002row8_col9{\n",
              "            background-color:  #4a63d3;\n",
              "            color:  #f1f1f1;\n",
              "        }#T_89a11f88_4ae5_11ec_8fc3_0242ac1c0002row8_col10{\n",
              "            background-color:  #d5dbe5;\n",
              "            color:  #000000;\n",
              "        }#T_89a11f88_4ae5_11ec_8fc3_0242ac1c0002row9_col0{\n",
              "            background-color:  #e0dbd8;\n",
              "            color:  #000000;\n",
              "        }#T_89a11f88_4ae5_11ec_8fc3_0242ac1c0002row9_col2{\n",
              "            background-color:  #ead4c8;\n",
              "            color:  #000000;\n",
              "        }#T_89a11f88_4ae5_11ec_8fc3_0242ac1c0002row9_col5{\n",
              "            background-color:  #7396f5;\n",
              "            color:  #000000;\n",
              "        }#T_89a11f88_4ae5_11ec_8fc3_0242ac1c0002row9_col6{\n",
              "            background-color:  #7da0f9;\n",
              "            color:  #000000;\n",
              "        }#T_89a11f88_4ae5_11ec_8fc3_0242ac1c0002row9_col7{\n",
              "            background-color:  #cad8ef;\n",
              "            color:  #000000;\n",
              "        }#T_89a11f88_4ae5_11ec_8fc3_0242ac1c0002row9_col10{\n",
              "            background-color:  #bed2f6;\n",
              "            color:  #000000;\n",
              "        }#T_89a11f88_4ae5_11ec_8fc3_0242ac1c0002row10_col1{\n",
              "            background-color:  #84a7fc;\n",
              "            color:  #000000;\n",
              "        }#T_89a11f88_4ae5_11ec_8fc3_0242ac1c0002row10_col2{\n",
              "            background-color:  #c9d7f0;\n",
              "            color:  #000000;\n",
              "        }#T_89a11f88_4ae5_11ec_8fc3_0242ac1c0002row10_col3{\n",
              "            background-color:  #5f7fe8;\n",
              "            color:  #000000;\n",
              "        }#T_89a11f88_4ae5_11ec_8fc3_0242ac1c0002row10_col4{\n",
              "            background-color:  #445acc;\n",
              "            color:  #f1f1f1;\n",
              "        }#T_89a11f88_4ae5_11ec_8fc3_0242ac1c0002row10_col5{\n",
              "            background-color:  #506bda;\n",
              "            color:  #000000;\n",
              "        }#T_89a11f88_4ae5_11ec_8fc3_0242ac1c0002row10_col8{\n",
              "            background-color:  #e4d9d2;\n",
              "            color:  #000000;\n",
              "        }#T_89a11f88_4ae5_11ec_8fc3_0242ac1c0002row10_col9{\n",
              "            background-color:  #97b8ff;\n",
              "            color:  #000000;\n",
              "        }#T_89a11f88_4ae5_11ec_8fc3_0242ac1c0002row10_col11{\n",
              "            background-color:  #f4c5ad;\n",
              "            color:  #000000;\n",
              "        }#T_89a11f88_4ae5_11ec_8fc3_0242ac1c0002row11_col0{\n",
              "            background-color:  #d7dce3;\n",
              "            color:  #000000;\n",
              "        }#T_89a11f88_4ae5_11ec_8fc3_0242ac1c0002row11_col3{\n",
              "            background-color:  #5673e0;\n",
              "            color:  #000000;\n",
              "        }#T_89a11f88_4ae5_11ec_8fc3_0242ac1c0002row11_col4{\n",
              "            background-color:  #5b7ae5;\n",
              "            color:  #000000;\n",
              "        }#T_89a11f88_4ae5_11ec_8fc3_0242ac1c0002row11_col5{\n",
              "            background-color:  #5572df;\n",
              "            color:  #000000;\n",
              "        }#T_89a11f88_4ae5_11ec_8fc3_0242ac1c0002row11_col6{\n",
              "            background-color:  #3f53c6;\n",
              "            color:  #f1f1f1;\n",
              "        }#T_89a11f88_4ae5_11ec_8fc3_0242ac1c0002row11_col8{\n",
              "            background-color:  #b7cff9;\n",
              "            color:  #000000;\n",
              "        }#T_89a11f88_4ae5_11ec_8fc3_0242ac1c0002row11_col9{\n",
              "            background-color:  #c3d5f4;\n",
              "            color:  #000000;\n",
              "        }#T_89a11f88_4ae5_11ec_8fc3_0242ac1c0002row11_col10{\n",
              "            background-color:  #f6bda2;\n",
              "            color:  #000000;\n",
              "        }</style><table id=\"T_89a11f88_4ae5_11ec_8fc3_0242ac1c0002\" class=\"dataframe\"><thead>    <tr>        <th class=\"blank level0\" ></th>        <th class=\"col_heading level0 col0\" >fixed acidity</th>        <th class=\"col_heading level0 col1\" >volatile acidity</th>        <th class=\"col_heading level0 col2\" >citric acid</th>        <th class=\"col_heading level0 col3\" >residual sugar</th>        <th class=\"col_heading level0 col4\" >chlorides</th>        <th class=\"col_heading level0 col5\" >free sulfur dioxide</th>        <th class=\"col_heading level0 col6\" >total sulfur dioxide</th>        <th class=\"col_heading level0 col7\" >density</th>        <th class=\"col_heading level0 col8\" >pH</th>        <th class=\"col_heading level0 col9\" >sulphates</th>        <th class=\"col_heading level0 col10\" >alcohol</th>        <th class=\"col_heading level0 col11\" >quality</th>    </tr></thead><tbody>\n",
              "                <tr>\n",
              "                        <th id=\"T_89a11f88_4ae5_11ec_8fc3_0242ac1c0002level0_row0\" class=\"row_heading level0 row0\" >fixed acidity</th>\n",
              "                        <td id=\"T_89a11f88_4ae5_11ec_8fc3_0242ac1c0002row0_col0\" class=\"data row0 col0\" >1.00</td>\n",
              "                        <td id=\"T_89a11f88_4ae5_11ec_8fc3_0242ac1c0002row0_col1\" class=\"data row0 col1\" >-0.26</td>\n",
              "                        <td id=\"T_89a11f88_4ae5_11ec_8fc3_0242ac1c0002row0_col2\" class=\"data row0 col2\" >0.67</td>\n",
              "                        <td id=\"T_89a11f88_4ae5_11ec_8fc3_0242ac1c0002row0_col3\" class=\"data row0 col3\" >0.11</td>\n",
              "                        <td id=\"T_89a11f88_4ae5_11ec_8fc3_0242ac1c0002row0_col4\" class=\"data row0 col4\" >0.09</td>\n",
              "                        <td id=\"T_89a11f88_4ae5_11ec_8fc3_0242ac1c0002row0_col5\" class=\"data row0 col5\" >-0.15</td>\n",
              "                        <td id=\"T_89a11f88_4ae5_11ec_8fc3_0242ac1c0002row0_col6\" class=\"data row0 col6\" >-0.11</td>\n",
              "                        <td id=\"T_89a11f88_4ae5_11ec_8fc3_0242ac1c0002row0_col7\" class=\"data row0 col7\" >0.67</td>\n",
              "                        <td id=\"T_89a11f88_4ae5_11ec_8fc3_0242ac1c0002row0_col8\" class=\"data row0 col8\" >-0.68</td>\n",
              "                        <td id=\"T_89a11f88_4ae5_11ec_8fc3_0242ac1c0002row0_col9\" class=\"data row0 col9\" >0.18</td>\n",
              "                        <td id=\"T_89a11f88_4ae5_11ec_8fc3_0242ac1c0002row0_col10\" class=\"data row0 col10\" >-0.06</td>\n",
              "                        <td id=\"T_89a11f88_4ae5_11ec_8fc3_0242ac1c0002row0_col11\" class=\"data row0 col11\" >0.12</td>\n",
              "            </tr>\n",
              "            <tr>\n",
              "                        <th id=\"T_89a11f88_4ae5_11ec_8fc3_0242ac1c0002level0_row1\" class=\"row_heading level0 row1\" >volatile acidity</th>\n",
              "                        <td id=\"T_89a11f88_4ae5_11ec_8fc3_0242ac1c0002row1_col0\" class=\"data row1 col0\" >-0.26</td>\n",
              "                        <td id=\"T_89a11f88_4ae5_11ec_8fc3_0242ac1c0002row1_col1\" class=\"data row1 col1\" >1.00</td>\n",
              "                        <td id=\"T_89a11f88_4ae5_11ec_8fc3_0242ac1c0002row1_col2\" class=\"data row1 col2\" >-0.55</td>\n",
              "                        <td id=\"T_89a11f88_4ae5_11ec_8fc3_0242ac1c0002row1_col3\" class=\"data row1 col3\" >0.00</td>\n",
              "                        <td id=\"T_89a11f88_4ae5_11ec_8fc3_0242ac1c0002row1_col4\" class=\"data row1 col4\" >0.06</td>\n",
              "                        <td id=\"T_89a11f88_4ae5_11ec_8fc3_0242ac1c0002row1_col5\" class=\"data row1 col5\" >-0.01</td>\n",
              "                        <td id=\"T_89a11f88_4ae5_11ec_8fc3_0242ac1c0002row1_col6\" class=\"data row1 col6\" >0.08</td>\n",
              "                        <td id=\"T_89a11f88_4ae5_11ec_8fc3_0242ac1c0002row1_col7\" class=\"data row1 col7\" >0.02</td>\n",
              "                        <td id=\"T_89a11f88_4ae5_11ec_8fc3_0242ac1c0002row1_col8\" class=\"data row1 col8\" >0.23</td>\n",
              "                        <td id=\"T_89a11f88_4ae5_11ec_8fc3_0242ac1c0002row1_col9\" class=\"data row1 col9\" >-0.26</td>\n",
              "                        <td id=\"T_89a11f88_4ae5_11ec_8fc3_0242ac1c0002row1_col10\" class=\"data row1 col10\" >-0.20</td>\n",
              "                        <td id=\"T_89a11f88_4ae5_11ec_8fc3_0242ac1c0002row1_col11\" class=\"data row1 col11\" >-0.39</td>\n",
              "            </tr>\n",
              "            <tr>\n",
              "                        <th id=\"T_89a11f88_4ae5_11ec_8fc3_0242ac1c0002level0_row2\" class=\"row_heading level0 row2\" >citric acid</th>\n",
              "                        <td id=\"T_89a11f88_4ae5_11ec_8fc3_0242ac1c0002row2_col0\" class=\"data row2 col0\" >0.67</td>\n",
              "                        <td id=\"T_89a11f88_4ae5_11ec_8fc3_0242ac1c0002row2_col1\" class=\"data row2 col1\" >-0.55</td>\n",
              "                        <td id=\"T_89a11f88_4ae5_11ec_8fc3_0242ac1c0002row2_col2\" class=\"data row2 col2\" >1.00</td>\n",
              "                        <td id=\"T_89a11f88_4ae5_11ec_8fc3_0242ac1c0002row2_col3\" class=\"data row2 col3\" >0.14</td>\n",
              "                        <td id=\"T_89a11f88_4ae5_11ec_8fc3_0242ac1c0002row2_col4\" class=\"data row2 col4\" >0.20</td>\n",
              "                        <td id=\"T_89a11f88_4ae5_11ec_8fc3_0242ac1c0002row2_col5\" class=\"data row2 col5\" >-0.06</td>\n",
              "                        <td id=\"T_89a11f88_4ae5_11ec_8fc3_0242ac1c0002row2_col6\" class=\"data row2 col6\" >0.04</td>\n",
              "                        <td id=\"T_89a11f88_4ae5_11ec_8fc3_0242ac1c0002row2_col7\" class=\"data row2 col7\" >0.36</td>\n",
              "                        <td id=\"T_89a11f88_4ae5_11ec_8fc3_0242ac1c0002row2_col8\" class=\"data row2 col8\" >-0.54</td>\n",
              "                        <td id=\"T_89a11f88_4ae5_11ec_8fc3_0242ac1c0002row2_col9\" class=\"data row2 col9\" >0.31</td>\n",
              "                        <td id=\"T_89a11f88_4ae5_11ec_8fc3_0242ac1c0002row2_col10\" class=\"data row2 col10\" >0.11</td>\n",
              "                        <td id=\"T_89a11f88_4ae5_11ec_8fc3_0242ac1c0002row2_col11\" class=\"data row2 col11\" >0.23</td>\n",
              "            </tr>\n",
              "            <tr>\n",
              "                        <th id=\"T_89a11f88_4ae5_11ec_8fc3_0242ac1c0002level0_row3\" class=\"row_heading level0 row3\" >residual sugar</th>\n",
              "                        <td id=\"T_89a11f88_4ae5_11ec_8fc3_0242ac1c0002row3_col0\" class=\"data row3 col0\" >0.11</td>\n",
              "                        <td id=\"T_89a11f88_4ae5_11ec_8fc3_0242ac1c0002row3_col1\" class=\"data row3 col1\" >0.00</td>\n",
              "                        <td id=\"T_89a11f88_4ae5_11ec_8fc3_0242ac1c0002row3_col2\" class=\"data row3 col2\" >0.14</td>\n",
              "                        <td id=\"T_89a11f88_4ae5_11ec_8fc3_0242ac1c0002row3_col3\" class=\"data row3 col3\" >1.00</td>\n",
              "                        <td id=\"T_89a11f88_4ae5_11ec_8fc3_0242ac1c0002row3_col4\" class=\"data row3 col4\" >0.06</td>\n",
              "                        <td id=\"T_89a11f88_4ae5_11ec_8fc3_0242ac1c0002row3_col5\" class=\"data row3 col5\" >0.19</td>\n",
              "                        <td id=\"T_89a11f88_4ae5_11ec_8fc3_0242ac1c0002row3_col6\" class=\"data row3 col6\" >0.20</td>\n",
              "                        <td id=\"T_89a11f88_4ae5_11ec_8fc3_0242ac1c0002row3_col7\" class=\"data row3 col7\" >0.36</td>\n",
              "                        <td id=\"T_89a11f88_4ae5_11ec_8fc3_0242ac1c0002row3_col8\" class=\"data row3 col8\" >-0.09</td>\n",
              "                        <td id=\"T_89a11f88_4ae5_11ec_8fc3_0242ac1c0002row3_col9\" class=\"data row3 col9\" >0.01</td>\n",
              "                        <td id=\"T_89a11f88_4ae5_11ec_8fc3_0242ac1c0002row3_col10\" class=\"data row3 col10\" >0.04</td>\n",
              "                        <td id=\"T_89a11f88_4ae5_11ec_8fc3_0242ac1c0002row3_col11\" class=\"data row3 col11\" >0.01</td>\n",
              "            </tr>\n",
              "            <tr>\n",
              "                        <th id=\"T_89a11f88_4ae5_11ec_8fc3_0242ac1c0002level0_row4\" class=\"row_heading level0 row4\" >chlorides</th>\n",
              "                        <td id=\"T_89a11f88_4ae5_11ec_8fc3_0242ac1c0002row4_col0\" class=\"data row4 col0\" >0.09</td>\n",
              "                        <td id=\"T_89a11f88_4ae5_11ec_8fc3_0242ac1c0002row4_col1\" class=\"data row4 col1\" >0.06</td>\n",
              "                        <td id=\"T_89a11f88_4ae5_11ec_8fc3_0242ac1c0002row4_col2\" class=\"data row4 col2\" >0.20</td>\n",
              "                        <td id=\"T_89a11f88_4ae5_11ec_8fc3_0242ac1c0002row4_col3\" class=\"data row4 col3\" >0.06</td>\n",
              "                        <td id=\"T_89a11f88_4ae5_11ec_8fc3_0242ac1c0002row4_col4\" class=\"data row4 col4\" >1.00</td>\n",
              "                        <td id=\"T_89a11f88_4ae5_11ec_8fc3_0242ac1c0002row4_col5\" class=\"data row4 col5\" >0.01</td>\n",
              "                        <td id=\"T_89a11f88_4ae5_11ec_8fc3_0242ac1c0002row4_col6\" class=\"data row4 col6\" >0.05</td>\n",
              "                        <td id=\"T_89a11f88_4ae5_11ec_8fc3_0242ac1c0002row4_col7\" class=\"data row4 col7\" >0.20</td>\n",
              "                        <td id=\"T_89a11f88_4ae5_11ec_8fc3_0242ac1c0002row4_col8\" class=\"data row4 col8\" >-0.27</td>\n",
              "                        <td id=\"T_89a11f88_4ae5_11ec_8fc3_0242ac1c0002row4_col9\" class=\"data row4 col9\" >0.37</td>\n",
              "                        <td id=\"T_89a11f88_4ae5_11ec_8fc3_0242ac1c0002row4_col10\" class=\"data row4 col10\" >-0.22</td>\n",
              "                        <td id=\"T_89a11f88_4ae5_11ec_8fc3_0242ac1c0002row4_col11\" class=\"data row4 col11\" >-0.13</td>\n",
              "            </tr>\n",
              "            <tr>\n",
              "                        <th id=\"T_89a11f88_4ae5_11ec_8fc3_0242ac1c0002level0_row5\" class=\"row_heading level0 row5\" >free sulfur dioxide</th>\n",
              "                        <td id=\"T_89a11f88_4ae5_11ec_8fc3_0242ac1c0002row5_col0\" class=\"data row5 col0\" >-0.15</td>\n",
              "                        <td id=\"T_89a11f88_4ae5_11ec_8fc3_0242ac1c0002row5_col1\" class=\"data row5 col1\" >-0.01</td>\n",
              "                        <td id=\"T_89a11f88_4ae5_11ec_8fc3_0242ac1c0002row5_col2\" class=\"data row5 col2\" >-0.06</td>\n",
              "                        <td id=\"T_89a11f88_4ae5_11ec_8fc3_0242ac1c0002row5_col3\" class=\"data row5 col3\" >0.19</td>\n",
              "                        <td id=\"T_89a11f88_4ae5_11ec_8fc3_0242ac1c0002row5_col4\" class=\"data row5 col4\" >0.01</td>\n",
              "                        <td id=\"T_89a11f88_4ae5_11ec_8fc3_0242ac1c0002row5_col5\" class=\"data row5 col5\" >1.00</td>\n",
              "                        <td id=\"T_89a11f88_4ae5_11ec_8fc3_0242ac1c0002row5_col6\" class=\"data row5 col6\" >0.67</td>\n",
              "                        <td id=\"T_89a11f88_4ae5_11ec_8fc3_0242ac1c0002row5_col7\" class=\"data row5 col7\" >-0.02</td>\n",
              "                        <td id=\"T_89a11f88_4ae5_11ec_8fc3_0242ac1c0002row5_col8\" class=\"data row5 col8\" >0.07</td>\n",
              "                        <td id=\"T_89a11f88_4ae5_11ec_8fc3_0242ac1c0002row5_col9\" class=\"data row5 col9\" >0.05</td>\n",
              "                        <td id=\"T_89a11f88_4ae5_11ec_8fc3_0242ac1c0002row5_col10\" class=\"data row5 col10\" >-0.07</td>\n",
              "                        <td id=\"T_89a11f88_4ae5_11ec_8fc3_0242ac1c0002row5_col11\" class=\"data row5 col11\" >-0.05</td>\n",
              "            </tr>\n",
              "            <tr>\n",
              "                        <th id=\"T_89a11f88_4ae5_11ec_8fc3_0242ac1c0002level0_row6\" class=\"row_heading level0 row6\" >total sulfur dioxide</th>\n",
              "                        <td id=\"T_89a11f88_4ae5_11ec_8fc3_0242ac1c0002row6_col0\" class=\"data row6 col0\" >-0.11</td>\n",
              "                        <td id=\"T_89a11f88_4ae5_11ec_8fc3_0242ac1c0002row6_col1\" class=\"data row6 col1\" >0.08</td>\n",
              "                        <td id=\"T_89a11f88_4ae5_11ec_8fc3_0242ac1c0002row6_col2\" class=\"data row6 col2\" >0.04</td>\n",
              "                        <td id=\"T_89a11f88_4ae5_11ec_8fc3_0242ac1c0002row6_col3\" class=\"data row6 col3\" >0.20</td>\n",
              "                        <td id=\"T_89a11f88_4ae5_11ec_8fc3_0242ac1c0002row6_col4\" class=\"data row6 col4\" >0.05</td>\n",
              "                        <td id=\"T_89a11f88_4ae5_11ec_8fc3_0242ac1c0002row6_col5\" class=\"data row6 col5\" >0.67</td>\n",
              "                        <td id=\"T_89a11f88_4ae5_11ec_8fc3_0242ac1c0002row6_col6\" class=\"data row6 col6\" >1.00</td>\n",
              "                        <td id=\"T_89a11f88_4ae5_11ec_8fc3_0242ac1c0002row6_col7\" class=\"data row6 col7\" >0.07</td>\n",
              "                        <td id=\"T_89a11f88_4ae5_11ec_8fc3_0242ac1c0002row6_col8\" class=\"data row6 col8\" >-0.07</td>\n",
              "                        <td id=\"T_89a11f88_4ae5_11ec_8fc3_0242ac1c0002row6_col9\" class=\"data row6 col9\" >0.04</td>\n",
              "                        <td id=\"T_89a11f88_4ae5_11ec_8fc3_0242ac1c0002row6_col10\" class=\"data row6 col10\" >-0.21</td>\n",
              "                        <td id=\"T_89a11f88_4ae5_11ec_8fc3_0242ac1c0002row6_col11\" class=\"data row6 col11\" >-0.19</td>\n",
              "            </tr>\n",
              "            <tr>\n",
              "                        <th id=\"T_89a11f88_4ae5_11ec_8fc3_0242ac1c0002level0_row7\" class=\"row_heading level0 row7\" >density</th>\n",
              "                        <td id=\"T_89a11f88_4ae5_11ec_8fc3_0242ac1c0002row7_col0\" class=\"data row7 col0\" >0.67</td>\n",
              "                        <td id=\"T_89a11f88_4ae5_11ec_8fc3_0242ac1c0002row7_col1\" class=\"data row7 col1\" >0.02</td>\n",
              "                        <td id=\"T_89a11f88_4ae5_11ec_8fc3_0242ac1c0002row7_col2\" class=\"data row7 col2\" >0.36</td>\n",
              "                        <td id=\"T_89a11f88_4ae5_11ec_8fc3_0242ac1c0002row7_col3\" class=\"data row7 col3\" >0.36</td>\n",
              "                        <td id=\"T_89a11f88_4ae5_11ec_8fc3_0242ac1c0002row7_col4\" class=\"data row7 col4\" >0.20</td>\n",
              "                        <td id=\"T_89a11f88_4ae5_11ec_8fc3_0242ac1c0002row7_col5\" class=\"data row7 col5\" >-0.02</td>\n",
              "                        <td id=\"T_89a11f88_4ae5_11ec_8fc3_0242ac1c0002row7_col6\" class=\"data row7 col6\" >0.07</td>\n",
              "                        <td id=\"T_89a11f88_4ae5_11ec_8fc3_0242ac1c0002row7_col7\" class=\"data row7 col7\" >1.00</td>\n",
              "                        <td id=\"T_89a11f88_4ae5_11ec_8fc3_0242ac1c0002row7_col8\" class=\"data row7 col8\" >-0.34</td>\n",
              "                        <td id=\"T_89a11f88_4ae5_11ec_8fc3_0242ac1c0002row7_col9\" class=\"data row7 col9\" >0.15</td>\n",
              "                        <td id=\"T_89a11f88_4ae5_11ec_8fc3_0242ac1c0002row7_col10\" class=\"data row7 col10\" >-0.50</td>\n",
              "                        <td id=\"T_89a11f88_4ae5_11ec_8fc3_0242ac1c0002row7_col11\" class=\"data row7 col11\" >-0.17</td>\n",
              "            </tr>\n",
              "            <tr>\n",
              "                        <th id=\"T_89a11f88_4ae5_11ec_8fc3_0242ac1c0002level0_row8\" class=\"row_heading level0 row8\" >pH</th>\n",
              "                        <td id=\"T_89a11f88_4ae5_11ec_8fc3_0242ac1c0002row8_col0\" class=\"data row8 col0\" >-0.68</td>\n",
              "                        <td id=\"T_89a11f88_4ae5_11ec_8fc3_0242ac1c0002row8_col1\" class=\"data row8 col1\" >0.23</td>\n",
              "                        <td id=\"T_89a11f88_4ae5_11ec_8fc3_0242ac1c0002row8_col2\" class=\"data row8 col2\" >-0.54</td>\n",
              "                        <td id=\"T_89a11f88_4ae5_11ec_8fc3_0242ac1c0002row8_col3\" class=\"data row8 col3\" >-0.09</td>\n",
              "                        <td id=\"T_89a11f88_4ae5_11ec_8fc3_0242ac1c0002row8_col4\" class=\"data row8 col4\" >-0.27</td>\n",
              "                        <td id=\"T_89a11f88_4ae5_11ec_8fc3_0242ac1c0002row8_col5\" class=\"data row8 col5\" >0.07</td>\n",
              "                        <td id=\"T_89a11f88_4ae5_11ec_8fc3_0242ac1c0002row8_col6\" class=\"data row8 col6\" >-0.07</td>\n",
              "                        <td id=\"T_89a11f88_4ae5_11ec_8fc3_0242ac1c0002row8_col7\" class=\"data row8 col7\" >-0.34</td>\n",
              "                        <td id=\"T_89a11f88_4ae5_11ec_8fc3_0242ac1c0002row8_col8\" class=\"data row8 col8\" >1.00</td>\n",
              "                        <td id=\"T_89a11f88_4ae5_11ec_8fc3_0242ac1c0002row8_col9\" class=\"data row8 col9\" >-0.20</td>\n",
              "                        <td id=\"T_89a11f88_4ae5_11ec_8fc3_0242ac1c0002row8_col10\" class=\"data row8 col10\" >0.21</td>\n",
              "                        <td id=\"T_89a11f88_4ae5_11ec_8fc3_0242ac1c0002row8_col11\" class=\"data row8 col11\" >-0.06</td>\n",
              "            </tr>\n",
              "            <tr>\n",
              "                        <th id=\"T_89a11f88_4ae5_11ec_8fc3_0242ac1c0002level0_row9\" class=\"row_heading level0 row9\" >sulphates</th>\n",
              "                        <td id=\"T_89a11f88_4ae5_11ec_8fc3_0242ac1c0002row9_col0\" class=\"data row9 col0\" >0.18</td>\n",
              "                        <td id=\"T_89a11f88_4ae5_11ec_8fc3_0242ac1c0002row9_col1\" class=\"data row9 col1\" >-0.26</td>\n",
              "                        <td id=\"T_89a11f88_4ae5_11ec_8fc3_0242ac1c0002row9_col2\" class=\"data row9 col2\" >0.31</td>\n",
              "                        <td id=\"T_89a11f88_4ae5_11ec_8fc3_0242ac1c0002row9_col3\" class=\"data row9 col3\" >0.01</td>\n",
              "                        <td id=\"T_89a11f88_4ae5_11ec_8fc3_0242ac1c0002row9_col4\" class=\"data row9 col4\" >0.37</td>\n",
              "                        <td id=\"T_89a11f88_4ae5_11ec_8fc3_0242ac1c0002row9_col5\" class=\"data row9 col5\" >0.05</td>\n",
              "                        <td id=\"T_89a11f88_4ae5_11ec_8fc3_0242ac1c0002row9_col6\" class=\"data row9 col6\" >0.04</td>\n",
              "                        <td id=\"T_89a11f88_4ae5_11ec_8fc3_0242ac1c0002row9_col7\" class=\"data row9 col7\" >0.15</td>\n",
              "                        <td id=\"T_89a11f88_4ae5_11ec_8fc3_0242ac1c0002row9_col8\" class=\"data row9 col8\" >-0.20</td>\n",
              "                        <td id=\"T_89a11f88_4ae5_11ec_8fc3_0242ac1c0002row9_col9\" class=\"data row9 col9\" >1.00</td>\n",
              "                        <td id=\"T_89a11f88_4ae5_11ec_8fc3_0242ac1c0002row9_col10\" class=\"data row9 col10\" >0.09</td>\n",
              "                        <td id=\"T_89a11f88_4ae5_11ec_8fc3_0242ac1c0002row9_col11\" class=\"data row9 col11\" >0.25</td>\n",
              "            </tr>\n",
              "            <tr>\n",
              "                        <th id=\"T_89a11f88_4ae5_11ec_8fc3_0242ac1c0002level0_row10\" class=\"row_heading level0 row10\" >alcohol</th>\n",
              "                        <td id=\"T_89a11f88_4ae5_11ec_8fc3_0242ac1c0002row10_col0\" class=\"data row10 col0\" >-0.06</td>\n",
              "                        <td id=\"T_89a11f88_4ae5_11ec_8fc3_0242ac1c0002row10_col1\" class=\"data row10 col1\" >-0.20</td>\n",
              "                        <td id=\"T_89a11f88_4ae5_11ec_8fc3_0242ac1c0002row10_col2\" class=\"data row10 col2\" >0.11</td>\n",
              "                        <td id=\"T_89a11f88_4ae5_11ec_8fc3_0242ac1c0002row10_col3\" class=\"data row10 col3\" >0.04</td>\n",
              "                        <td id=\"T_89a11f88_4ae5_11ec_8fc3_0242ac1c0002row10_col4\" class=\"data row10 col4\" >-0.22</td>\n",
              "                        <td id=\"T_89a11f88_4ae5_11ec_8fc3_0242ac1c0002row10_col5\" class=\"data row10 col5\" >-0.07</td>\n",
              "                        <td id=\"T_89a11f88_4ae5_11ec_8fc3_0242ac1c0002row10_col6\" class=\"data row10 col6\" >-0.21</td>\n",
              "                        <td id=\"T_89a11f88_4ae5_11ec_8fc3_0242ac1c0002row10_col7\" class=\"data row10 col7\" >-0.50</td>\n",
              "                        <td id=\"T_89a11f88_4ae5_11ec_8fc3_0242ac1c0002row10_col8\" class=\"data row10 col8\" >0.21</td>\n",
              "                        <td id=\"T_89a11f88_4ae5_11ec_8fc3_0242ac1c0002row10_col9\" class=\"data row10 col9\" >0.09</td>\n",
              "                        <td id=\"T_89a11f88_4ae5_11ec_8fc3_0242ac1c0002row10_col10\" class=\"data row10 col10\" >1.00</td>\n",
              "                        <td id=\"T_89a11f88_4ae5_11ec_8fc3_0242ac1c0002row10_col11\" class=\"data row10 col11\" >0.48</td>\n",
              "            </tr>\n",
              "            <tr>\n",
              "                        <th id=\"T_89a11f88_4ae5_11ec_8fc3_0242ac1c0002level0_row11\" class=\"row_heading level0 row11\" >quality</th>\n",
              "                        <td id=\"T_89a11f88_4ae5_11ec_8fc3_0242ac1c0002row11_col0\" class=\"data row11 col0\" >0.12</td>\n",
              "                        <td id=\"T_89a11f88_4ae5_11ec_8fc3_0242ac1c0002row11_col1\" class=\"data row11 col1\" >-0.39</td>\n",
              "                        <td id=\"T_89a11f88_4ae5_11ec_8fc3_0242ac1c0002row11_col2\" class=\"data row11 col2\" >0.23</td>\n",
              "                        <td id=\"T_89a11f88_4ae5_11ec_8fc3_0242ac1c0002row11_col3\" class=\"data row11 col3\" >0.01</td>\n",
              "                        <td id=\"T_89a11f88_4ae5_11ec_8fc3_0242ac1c0002row11_col4\" class=\"data row11 col4\" >-0.13</td>\n",
              "                        <td id=\"T_89a11f88_4ae5_11ec_8fc3_0242ac1c0002row11_col5\" class=\"data row11 col5\" >-0.05</td>\n",
              "                        <td id=\"T_89a11f88_4ae5_11ec_8fc3_0242ac1c0002row11_col6\" class=\"data row11 col6\" >-0.19</td>\n",
              "                        <td id=\"T_89a11f88_4ae5_11ec_8fc3_0242ac1c0002row11_col7\" class=\"data row11 col7\" >-0.17</td>\n",
              "                        <td id=\"T_89a11f88_4ae5_11ec_8fc3_0242ac1c0002row11_col8\" class=\"data row11 col8\" >-0.06</td>\n",
              "                        <td id=\"T_89a11f88_4ae5_11ec_8fc3_0242ac1c0002row11_col9\" class=\"data row11 col9\" >0.25</td>\n",
              "                        <td id=\"T_89a11f88_4ae5_11ec_8fc3_0242ac1c0002row11_col10\" class=\"data row11 col10\" >0.48</td>\n",
              "                        <td id=\"T_89a11f88_4ae5_11ec_8fc3_0242ac1c0002row11_col11\" class=\"data row11 col11\" >1.00</td>\n",
              "            </tr>\n",
              "    </tbody></table>"
            ],
            "text/plain": [
              "<pandas.io.formats.style.Styler at 0x7fb7cca70c50>"
            ]
          },
          "metadata": {},
          "execution_count": 254
        }
      ]
    },
    {
      "cell_type": "code",
      "metadata": {
        "colab": {
          "base_uri": "https://localhost:8080/",
          "height": 769
        },
        "id": "EffCVk81ZmV5",
        "outputId": "ba1ffd21-c2f6-4d55-f549-6801e5a252cd"
      },
      "source": [
        "# vẽ boxplot và outlier \n",
        "fig = plt.figure(figsize = (15,15))\n",
        "ax = fig.gca()\n",
        "dt.plot(kind='box', subplots=True, layout=(4,4), sharex=False, sharey=False, fontsize=8, ax=ax)"
      ],
      "execution_count": 255,
      "outputs": [
        {
          "output_type": "stream",
          "name": "stderr",
          "text": [
            "/usr/local/lib/python3.7/dist-packages/pandas/plotting/_matplotlib/__init__.py:61: UserWarning: To output multiple subplots, the figure containing the passed axes is being cleared\n",
            "  plot_obj.generate()\n"
          ]
        },
        {
          "output_type": "execute_result",
          "data": {
            "text/plain": [
              "fixed acidity               AxesSubplot(0.125,0.71587;0.168478x0.16413)\n",
              "volatile acidity         AxesSubplot(0.327174,0.71587;0.168478x0.16413)\n",
              "citric acid              AxesSubplot(0.529348,0.71587;0.168478x0.16413)\n",
              "residual sugar           AxesSubplot(0.731522,0.71587;0.168478x0.16413)\n",
              "chlorides                  AxesSubplot(0.125,0.518913;0.168478x0.16413)\n",
              "free sulfur dioxide     AxesSubplot(0.327174,0.518913;0.168478x0.16413)\n",
              "total sulfur dioxide    AxesSubplot(0.529348,0.518913;0.168478x0.16413)\n",
              "density                 AxesSubplot(0.731522,0.518913;0.168478x0.16413)\n",
              "pH                         AxesSubplot(0.125,0.321957;0.168478x0.16413)\n",
              "sulphates               AxesSubplot(0.327174,0.321957;0.168478x0.16413)\n",
              "alcohol                 AxesSubplot(0.529348,0.321957;0.168478x0.16413)\n",
              "quality                 AxesSubplot(0.731522,0.321957;0.168478x0.16413)\n",
              "dtype: object"
            ]
          },
          "metadata": {},
          "execution_count": 255
        },
        {
          "output_type": "display_data",
          "data": {
            "image/png": "[encoded data removed]",
            "text/plain": [
              "<Figure size 1080x1080 with 16 Axes>"
            ]
          },
          "metadata": {
            "needs_background": "light"
          }
        }
      ]
    },
    {
      "cell_type": "code",
      "metadata": {
        "id": "LER2yDvgZmY8",
        "colab": {
          "base_uri": "https://localhost:8080/"
        },
        "outputId": "d8bc6eb9-c210-407b-b1d2-5c53a5c6fb7d"
      },
      "source": [
        "from sklearn.model_selection import train_test_split\n",
        "X = dt.iloc[:,0 :11]\n",
        "Y = dt[['quality']]\n",
        "X_train, X_test , y_train, y_test = train_test_split(X,Y, test_size = 0.2, random_state = 42)\n",
        "print(len(X_train))"
      ],
      "execution_count": 256,
      "outputs": [
        {
          "output_type": "stream",
          "name": "stdout",
          "text": [
            "1279\n"
          ]
        }
      ]
    },
    {
      "cell_type": "code",
      "metadata": {
        "colab": {
          "base_uri": "https://localhost:8080/"
        },
        "id": "j2CWss15yN8U",
        "outputId": "997c5d7f-48b4-42ba-ad1c-ad1cec334ca0"
      },
      "source": [
        "# TH1:  không scaling\n",
        "from sklearn.linear_model import LinearRegression\n",
        "model = LinearRegression().fit(X_train,y_train)\n",
        "print(model.coef_)\n",
        "print(model.intercept_)"
      ],
      "execution_count": 257,
      "outputs": [
        {
          "output_type": "stream",
          "name": "stdout",
          "text": [
            "[[ 2.30853339e-02 -1.00130443e+00 -1.40821461e-01  6.56431104e-03\n",
            "  -1.80650315e+00  5.62733439e-03 -3.64444893e-03 -1.03515936e+01\n",
            "  -3.93687732e-01  8.41171623e-01  2.81889567e-01]]\n",
            "[14.3551052]\n"
          ]
        }
      ]
    },
    {
      "cell_type": "code",
      "metadata": {
        "colab": {
          "base_uri": "https://localhost:8080/"
        },
        "id": "uytqw1tL2eop",
        "outputId": "80185422-40c2-4fcf-e56c-34504dc2f0ea"
      },
      "source": [
        "predict = model.predict(X_test)\n",
        "predict = np.transpose(predict)\n",
        "predict.shape\n"
      ],
      "execution_count": 258,
      "outputs": [
        {
          "output_type": "execute_result",
          "data": {
            "text/plain": [
              "(1, 320)"
            ]
          },
          "metadata": {},
          "execution_count": 258
        }
      ]
    },
    {
      "cell_type": "code",
      "metadata": {
        "colab": {
          "base_uri": "https://localhost:8080/"
        },
        "id": "uRS9H5RQ2l8g",
        "outputId": "eb6951f3-d559-4914-fa91-8d0224650a13"
      },
      "source": [
        "y_test= np.transpose(y_test)\n",
        "y_test.shape"
      ],
      "execution_count": 259,
      "outputs": [
        {
          "output_type": "execute_result",
          "data": {
            "text/plain": [
              "(1, 320)"
            ]
          },
          "metadata": {},
          "execution_count": 259
        }
      ]
    },
    {
      "cell_type": "code",
      "metadata": {
        "colab": {
          "base_uri": "https://localhost:8080/"
        },
        "id": "iRvzp7XpyN-_",
        "outputId": "60a4322f-319f-461f-9c0c-2ec188bc679d"
      },
      "source": [
        "# tính các chỉ số cần thiết: \n",
        "from sklearn import metrics\n",
        "print('MAS', metrics.mean_absolute_error(y_test,predict))\n",
        "print('MAPE',metrics.mean_absolute_percentage_error(y_test,predict))\n",
        "print('RMSE',np.sqrt(metrics.mean_squared_error(y_test,predict)))\n",
        "print('R-Square',model.score(X_train,y_train))\n",
        "r2 = model.score(X_train,y_train)\n",
        "print('Adjust R_square', 1 - ((1 - r2) * (len(X_train) - 1) / (len(X_train) - 11 - 1)) )"
      ],
      "execution_count": 260,
      "outputs": [
        {
          "output_type": "stream",
          "name": "stdout",
          "text": [
            "MAS 0.5035304415524374\n",
            "MAPE 0.08991084943366374\n",
            "RMSE 0.6245199307980126\n",
            "R-Square 0.347992619352986\n",
            "Adjust R_square 0.3423319396472897\n"
          ]
        }
      ]
    },
    {
      "cell_type": "code",
      "metadata": {
        "colab": {
          "base_uri": "https://localhost:8080/",
          "height": 282
        },
        "id": "gaPowD4FyOEv",
        "outputId": "ea4fb6eb-3f08-4d44-c1af-687bcb0b6793"
      },
      "source": [
        "# plot \n",
        "plt.scatter(y_test,predict)"
      ],
      "execution_count": 261,
      "outputs": [
        {
          "output_type": "execute_result",
          "data": {
            "text/plain": [
              "<matplotlib.collections.PathCollection at 0x7fb7ccd28e10>"
            ]
          },
          "metadata": {},
          "execution_count": 261
        },
        {
          "output_type": "display_data",
          "data": {
            "image/png": "[encoded data removed]",
            "text/plain": [
              "<Figure size 432x288 with 1 Axes>"
            ]
          },
          "metadata": {
            "needs_background": "light"
          }
        }
      ]
    },
    {
      "cell_type": "markdown",
      "metadata": {
        "id": "v6wglBI5-hLT"
      },
      "source": [
        "mô hình sau khi run thì dự đoán cũng không tốt cho lắm. "
      ]
    },
    {
      "cell_type": "code",
      "metadata": {
        "id": "x5_N92kl8tOI"
      },
      "source": [
        "# TH2: bỏ outlier, \n",
        "# chỉ lấy các thuộc tính có corr lớn với quality \n",
        "# scaling data"
      ],
      "execution_count": 262,
      "outputs": []
    },
    {
      "cell_type": "code",
      "metadata": {
        "colab": {
          "base_uri": "https://localhost:8080/",
          "height": 456
        },
        "id": "5pDmJflC-2hx",
        "outputId": "235ad144-2fd8-4587-edab-daa87aac4766"
      },
      "source": [
        "dt2 = dt[['fixed acidity','volatile acidity','chlorides','citric acid','sulphates','alcohol','density','total sulfur dioxide','quality']]\n",
        "cor2 = dt2.corr()\n",
        "cor2.style.background_gradient(cmap = 'coolwarm').set_precision(2)"
      ],
      "execution_count": 263,
      "outputs": [
        {
          "output_type": "execute_result",
          "data": {
            "text/html": [
              "<style  type=\"text/css\" >\n",
              "#T_8b0b49e8_4ae5_11ec_8fc3_0242ac1c0002row0_col0,#T_8b0b49e8_4ae5_11ec_8fc3_0242ac1c0002row1_col1,#T_8b0b49e8_4ae5_11ec_8fc3_0242ac1c0002row2_col2,#T_8b0b49e8_4ae5_11ec_8fc3_0242ac1c0002row3_col3,#T_8b0b49e8_4ae5_11ec_8fc3_0242ac1c0002row4_col4,#T_8b0b49e8_4ae5_11ec_8fc3_0242ac1c0002row5_col5,#T_8b0b49e8_4ae5_11ec_8fc3_0242ac1c0002row6_col6,#T_8b0b49e8_4ae5_11ec_8fc3_0242ac1c0002row7_col7,#T_8b0b49e8_4ae5_11ec_8fc3_0242ac1c0002row8_col8{\n",
              "            background-color:  #b40426;\n",
              "            color:  #f1f1f1;\n",
              "        }#T_8b0b49e8_4ae5_11ec_8fc3_0242ac1c0002row0_col1,#T_8b0b49e8_4ae5_11ec_8fc3_0242ac1c0002row2_col8,#T_8b0b49e8_4ae5_11ec_8fc3_0242ac1c0002row4_col1{\n",
              "            background-color:  #779af7;\n",
              "            color:  #000000;\n",
              "        }#T_8b0b49e8_4ae5_11ec_8fc3_0242ac1c0002row0_col2{\n",
              "            background-color:  #90b2fe;\n",
              "            color:  #000000;\n",
              "        }#T_8b0b49e8_4ae5_11ec_8fc3_0242ac1c0002row0_col3{\n",
              "            background-color:  #f08a6c;\n",
              "            color:  #000000;\n",
              "        }#T_8b0b49e8_4ae5_11ec_8fc3_0242ac1c0002row0_col4{\n",
              "            background-color:  #b1cbfc;\n",
              "            color:  #000000;\n",
              "        }#T_8b0b49e8_4ae5_11ec_8fc3_0242ac1c0002row0_col5{\n",
              "            background-color:  #9bbcff;\n",
              "            color:  #000000;\n",
              "        }#T_8b0b49e8_4ae5_11ec_8fc3_0242ac1c0002row0_col6{\n",
              "            background-color:  #f18d6f;\n",
              "            color:  #000000;\n",
              "        }#T_8b0b49e8_4ae5_11ec_8fc3_0242ac1c0002row0_col7,#T_8b0b49e8_4ae5_11ec_8fc3_0242ac1c0002row8_col2{\n",
              "            background-color:  #516ddb;\n",
              "            color:  #000000;\n",
              "        }#T_8b0b49e8_4ae5_11ec_8fc3_0242ac1c0002row0_col8,#T_8b0b49e8_4ae5_11ec_8fc3_0242ac1c0002row6_col1{\n",
              "            background-color:  #b6cefa;\n",
              "            color:  #000000;\n",
              "        }#T_8b0b49e8_4ae5_11ec_8fc3_0242ac1c0002row1_col0,#T_8b0b49e8_4ae5_11ec_8fc3_0242ac1c0002row1_col3,#T_8b0b49e8_4ae5_11ec_8fc3_0242ac1c0002row1_col4,#T_8b0b49e8_4ae5_11ec_8fc3_0242ac1c0002row1_col8,#T_8b0b49e8_4ae5_11ec_8fc3_0242ac1c0002row3_col1,#T_8b0b49e8_4ae5_11ec_8fc3_0242ac1c0002row5_col2,#T_8b0b49e8_4ae5_11ec_8fc3_0242ac1c0002row5_col6,#T_8b0b49e8_4ae5_11ec_8fc3_0242ac1c0002row5_col7,#T_8b0b49e8_4ae5_11ec_8fc3_0242ac1c0002row6_col5{\n",
              "            background-color:  #3b4cc0;\n",
              "            color:  #f1f1f1;\n",
              "        }#T_8b0b49e8_4ae5_11ec_8fc3_0242ac1c0002row1_col2,#T_8b0b49e8_4ae5_11ec_8fc3_0242ac1c0002row1_col7{\n",
              "            background-color:  #86a9fc;\n",
              "            color:  #000000;\n",
              "        }#T_8b0b49e8_4ae5_11ec_8fc3_0242ac1c0002row1_col5{\n",
              "            background-color:  #7a9df8;\n",
              "            color:  #000000;\n",
              "        }#T_8b0b49e8_4ae5_11ec_8fc3_0242ac1c0002row1_col6,#T_8b0b49e8_4ae5_11ec_8fc3_0242ac1c0002row6_col2{\n",
              "            background-color:  #aec9fc;\n",
              "            color:  #000000;\n",
              "        }#T_8b0b49e8_4ae5_11ec_8fc3_0242ac1c0002row2_col0,#T_8b0b49e8_4ae5_11ec_8fc3_0242ac1c0002row5_col4{\n",
              "            background-color:  #97b8ff;\n",
              "            color:  #000000;\n",
              "        }#T_8b0b49e8_4ae5_11ec_8fc3_0242ac1c0002row2_col1{\n",
              "            background-color:  #bfd3f6;\n",
              "            color:  #000000;\n",
              "        }#T_8b0b49e8_4ae5_11ec_8fc3_0242ac1c0002row2_col3,#T_8b0b49e8_4ae5_11ec_8fc3_0242ac1c0002row4_col2{\n",
              "            background-color:  #d9dce1;\n",
              "            color:  #000000;\n",
              "        }#T_8b0b49e8_4ae5_11ec_8fc3_0242ac1c0002row2_col4,#T_8b0b49e8_4ae5_11ec_8fc3_0242ac1c0002row8_col3{\n",
              "            background-color:  #dddcdc;\n",
              "            color:  #000000;\n",
              "        }#T_8b0b49e8_4ae5_11ec_8fc3_0242ac1c0002row2_col5{\n",
              "            background-color:  #7699f6;\n",
              "            color:  #000000;\n",
              "        }#T_8b0b49e8_4ae5_11ec_8fc3_0242ac1c0002row2_col6{\n",
              "            background-color:  #d4dbe6;\n",
              "            color:  #000000;\n",
              "        }#T_8b0b49e8_4ae5_11ec_8fc3_0242ac1c0002row2_col7{\n",
              "            background-color:  #7ea1fa;\n",
              "            color:  #000000;\n",
              "        }#T_8b0b49e8_4ae5_11ec_8fc3_0242ac1c0002row3_col0{\n",
              "            background-color:  #f59d7e;\n",
              "            color:  #000000;\n",
              "        }#T_8b0b49e8_4ae5_11ec_8fc3_0242ac1c0002row3_col2,#T_8b0b49e8_4ae5_11ec_8fc3_0242ac1c0002row4_col0{\n",
              "            background-color:  #afcafc;\n",
              "            color:  #000000;\n",
              "        }#T_8b0b49e8_4ae5_11ec_8fc3_0242ac1c0002row3_col4{\n",
              "            background-color:  #d1dae9;\n",
              "            color:  #000000;\n",
              "        }#T_8b0b49e8_4ae5_11ec_8fc3_0242ac1c0002row3_col5,#T_8b0b49e8_4ae5_11ec_8fc3_0242ac1c0002row7_col1{\n",
              "            background-color:  #c1d4f4;\n",
              "            color:  #000000;\n",
              "        }#T_8b0b49e8_4ae5_11ec_8fc3_0242ac1c0002row3_col6{\n",
              "            background-color:  #eed0c0;\n",
              "            color:  #000000;\n",
              "        }#T_8b0b49e8_4ae5_11ec_8fc3_0242ac1c0002row3_col7{\n",
              "            background-color:  #7b9ff9;\n",
              "            color:  #000000;\n",
              "        }#T_8b0b49e8_4ae5_11ec_8fc3_0242ac1c0002row3_col8{\n",
              "            background-color:  #cdd9ec;\n",
              "            color:  #000000;\n",
              "        }#T_8b0b49e8_4ae5_11ec_8fc3_0242ac1c0002row4_col3{\n",
              "            background-color:  #ead4c8;\n",
              "            color:  #000000;\n",
              "        }#T_8b0b49e8_4ae5_11ec_8fc3_0242ac1c0002row4_col5{\n",
              "            background-color:  #bed2f6;\n",
              "            color:  #000000;\n",
              "        }#T_8b0b49e8_4ae5_11ec_8fc3_0242ac1c0002row4_col6{\n",
              "            background-color:  #cad8ef;\n",
              "            color:  #000000;\n",
              "        }#T_8b0b49e8_4ae5_11ec_8fc3_0242ac1c0002row4_col7{\n",
              "            background-color:  #7da0f9;\n",
              "            color:  #000000;\n",
              "        }#T_8b0b49e8_4ae5_11ec_8fc3_0242ac1c0002row4_col8{\n",
              "            background-color:  #d3dbe7;\n",
              "            color:  #000000;\n",
              "        }#T_8b0b49e8_4ae5_11ec_8fc3_0242ac1c0002row5_col0,#T_8b0b49e8_4ae5_11ec_8fc3_0242ac1c0002row6_col8{\n",
              "            background-color:  #6b8df0;\n",
              "            color:  #000000;\n",
              "        }#T_8b0b49e8_4ae5_11ec_8fc3_0242ac1c0002row5_col1{\n",
              "            background-color:  #84a7fc;\n",
              "            color:  #000000;\n",
              "        }#T_8b0b49e8_4ae5_11ec_8fc3_0242ac1c0002row5_col3{\n",
              "            background-color:  #c9d7f0;\n",
              "            color:  #000000;\n",
              "        }#T_8b0b49e8_4ae5_11ec_8fc3_0242ac1c0002row5_col8{\n",
              "            background-color:  #f4c5ad;\n",
              "            color:  #000000;\n",
              "        }#T_8b0b49e8_4ae5_11ec_8fc3_0242ac1c0002row6_col0{\n",
              "            background-color:  #f59f80;\n",
              "            color:  #000000;\n",
              "        }#T_8b0b49e8_4ae5_11ec_8fc3_0242ac1c0002row6_col3{\n",
              "            background-color:  #f1cdba;\n",
              "            color:  #000000;\n",
              "        }#T_8b0b49e8_4ae5_11ec_8fc3_0242ac1c0002row6_col4{\n",
              "            background-color:  #a7c5fe;\n",
              "            color:  #000000;\n",
              "        }#T_8b0b49e8_4ae5_11ec_8fc3_0242ac1c0002row6_col7{\n",
              "            background-color:  #85a8fc;\n",
              "            color:  #000000;\n",
              "        }#T_8b0b49e8_4ae5_11ec_8fc3_0242ac1c0002row7_col0{\n",
              "            background-color:  #5e7de7;\n",
              "            color:  #000000;\n",
              "        }#T_8b0b49e8_4ae5_11ec_8fc3_0242ac1c0002row7_col2{\n",
              "            background-color:  #82a6fb;\n",
              "            color:  #000000;\n",
              "        }#T_8b0b49e8_4ae5_11ec_8fc3_0242ac1c0002row7_col3{\n",
              "            background-color:  #b9d0f9;\n",
              "            color:  #000000;\n",
              "        }#T_8b0b49e8_4ae5_11ec_8fc3_0242ac1c0002row7_col4{\n",
              "            background-color:  #89acfd;\n",
              "            color:  #000000;\n",
              "        }#T_8b0b49e8_4ae5_11ec_8fc3_0242ac1c0002row7_col5{\n",
              "            background-color:  #799cf8;\n",
              "            color:  #000000;\n",
              "        }#T_8b0b49e8_4ae5_11ec_8fc3_0242ac1c0002row7_col6{\n",
              "            background-color:  #bad0f8;\n",
              "            color:  #000000;\n",
              "        }#T_8b0b49e8_4ae5_11ec_8fc3_0242ac1c0002row7_col8{\n",
              "            background-color:  #688aef;\n",
              "            color:  #000000;\n",
              "        }#T_8b0b49e8_4ae5_11ec_8fc3_0242ac1c0002row8_col0{\n",
              "            background-color:  #9fbfff;\n",
              "            color:  #000000;\n",
              "        }#T_8b0b49e8_4ae5_11ec_8fc3_0242ac1c0002row8_col1{\n",
              "            background-color:  #5a78e4;\n",
              "            color:  #000000;\n",
              "        }#T_8b0b49e8_4ae5_11ec_8fc3_0242ac1c0002row8_col4{\n",
              "            background-color:  #c3d5f4;\n",
              "            color:  #000000;\n",
              "        }#T_8b0b49e8_4ae5_11ec_8fc3_0242ac1c0002row8_col5{\n",
              "            background-color:  #f6bda2;\n",
              "            color:  #000000;\n",
              "        }#T_8b0b49e8_4ae5_11ec_8fc3_0242ac1c0002row8_col6{\n",
              "            background-color:  #80a3fa;\n",
              "            color:  #000000;\n",
              "        }#T_8b0b49e8_4ae5_11ec_8fc3_0242ac1c0002row8_col7{\n",
              "            background-color:  #3f53c6;\n",
              "            color:  #f1f1f1;\n",
              "        }</style><table id=\"T_8b0b49e8_4ae5_11ec_8fc3_0242ac1c0002\" class=\"dataframe\"><thead>    <tr>        <th class=\"blank level0\" ></th>        <th class=\"col_heading level0 col0\" >fixed acidity</th>        <th class=\"col_heading level0 col1\" >volatile acidity</th>        <th class=\"col_heading level0 col2\" >chlorides</th>        <th class=\"col_heading level0 col3\" >citric acid</th>        <th class=\"col_heading level0 col4\" >sulphates</th>        <th class=\"col_heading level0 col5\" >alcohol</th>        <th class=\"col_heading level0 col6\" >density</th>        <th class=\"col_heading level0 col7\" >total sulfur dioxide</th>        <th class=\"col_heading level0 col8\" >quality</th>    </tr></thead><tbody>\n",
              "                <tr>\n",
              "                        <th id=\"T_8b0b49e8_4ae5_11ec_8fc3_0242ac1c0002level0_row0\" class=\"row_heading level0 row0\" >fixed acidity</th>\n",
              "                        <td id=\"T_8b0b49e8_4ae5_11ec_8fc3_0242ac1c0002row0_col0\" class=\"data row0 col0\" >1.00</td>\n",
              "                        <td id=\"T_8b0b49e8_4ae5_11ec_8fc3_0242ac1c0002row0_col1\" class=\"data row0 col1\" >-0.26</td>\n",
              "                        <td id=\"T_8b0b49e8_4ae5_11ec_8fc3_0242ac1c0002row0_col2\" class=\"data row0 col2\" >0.09</td>\n",
              "                        <td id=\"T_8b0b49e8_4ae5_11ec_8fc3_0242ac1c0002row0_col3\" class=\"data row0 col3\" >0.67</td>\n",
              "                        <td id=\"T_8b0b49e8_4ae5_11ec_8fc3_0242ac1c0002row0_col4\" class=\"data row0 col4\" >0.18</td>\n",
              "                        <td id=\"T_8b0b49e8_4ae5_11ec_8fc3_0242ac1c0002row0_col5\" class=\"data row0 col5\" >-0.06</td>\n",
              "                        <td id=\"T_8b0b49e8_4ae5_11ec_8fc3_0242ac1c0002row0_col6\" class=\"data row0 col6\" >0.67</td>\n",
              "                        <td id=\"T_8b0b49e8_4ae5_11ec_8fc3_0242ac1c0002row0_col7\" class=\"data row0 col7\" >-0.11</td>\n",
              "                        <td id=\"T_8b0b49e8_4ae5_11ec_8fc3_0242ac1c0002row0_col8\" class=\"data row0 col8\" >0.12</td>\n",
              "            </tr>\n",
              "            <tr>\n",
              "                        <th id=\"T_8b0b49e8_4ae5_11ec_8fc3_0242ac1c0002level0_row1\" class=\"row_heading level0 row1\" >volatile acidity</th>\n",
              "                        <td id=\"T_8b0b49e8_4ae5_11ec_8fc3_0242ac1c0002row1_col0\" class=\"data row1 col0\" >-0.26</td>\n",
              "                        <td id=\"T_8b0b49e8_4ae5_11ec_8fc3_0242ac1c0002row1_col1\" class=\"data row1 col1\" >1.00</td>\n",
              "                        <td id=\"T_8b0b49e8_4ae5_11ec_8fc3_0242ac1c0002row1_col2\" class=\"data row1 col2\" >0.06</td>\n",
              "                        <td id=\"T_8b0b49e8_4ae5_11ec_8fc3_0242ac1c0002row1_col3\" class=\"data row1 col3\" >-0.55</td>\n",
              "                        <td id=\"T_8b0b49e8_4ae5_11ec_8fc3_0242ac1c0002row1_col4\" class=\"data row1 col4\" >-0.26</td>\n",
              "                        <td id=\"T_8b0b49e8_4ae5_11ec_8fc3_0242ac1c0002row1_col5\" class=\"data row1 col5\" >-0.20</td>\n",
              "                        <td id=\"T_8b0b49e8_4ae5_11ec_8fc3_0242ac1c0002row1_col6\" class=\"data row1 col6\" >0.02</td>\n",
              "                        <td id=\"T_8b0b49e8_4ae5_11ec_8fc3_0242ac1c0002row1_col7\" class=\"data row1 col7\" >0.08</td>\n",
              "                        <td id=\"T_8b0b49e8_4ae5_11ec_8fc3_0242ac1c0002row1_col8\" class=\"data row1 col8\" >-0.39</td>\n",
              "            </tr>\n",
              "            <tr>\n",
              "                        <th id=\"T_8b0b49e8_4ae5_11ec_8fc3_0242ac1c0002level0_row2\" class=\"row_heading level0 row2\" >chlorides</th>\n",
              "                        <td id=\"T_8b0b49e8_4ae5_11ec_8fc3_0242ac1c0002row2_col0\" class=\"data row2 col0\" >0.09</td>\n",
              "                        <td id=\"T_8b0b49e8_4ae5_11ec_8fc3_0242ac1c0002row2_col1\" class=\"data row2 col1\" >0.06</td>\n",
              "                        <td id=\"T_8b0b49e8_4ae5_11ec_8fc3_0242ac1c0002row2_col2\" class=\"data row2 col2\" >1.00</td>\n",
              "                        <td id=\"T_8b0b49e8_4ae5_11ec_8fc3_0242ac1c0002row2_col3\" class=\"data row2 col3\" >0.20</td>\n",
              "                        <td id=\"T_8b0b49e8_4ae5_11ec_8fc3_0242ac1c0002row2_col4\" class=\"data row2 col4\" >0.37</td>\n",
              "                        <td id=\"T_8b0b49e8_4ae5_11ec_8fc3_0242ac1c0002row2_col5\" class=\"data row2 col5\" >-0.22</td>\n",
              "                        <td id=\"T_8b0b49e8_4ae5_11ec_8fc3_0242ac1c0002row2_col6\" class=\"data row2 col6\" >0.20</td>\n",
              "                        <td id=\"T_8b0b49e8_4ae5_11ec_8fc3_0242ac1c0002row2_col7\" class=\"data row2 col7\" >0.05</td>\n",
              "                        <td id=\"T_8b0b49e8_4ae5_11ec_8fc3_0242ac1c0002row2_col8\" class=\"data row2 col8\" >-0.13</td>\n",
              "            </tr>\n",
              "            <tr>\n",
              "                        <th id=\"T_8b0b49e8_4ae5_11ec_8fc3_0242ac1c0002level0_row3\" class=\"row_heading level0 row3\" >citric acid</th>\n",
              "                        <td id=\"T_8b0b49e8_4ae5_11ec_8fc3_0242ac1c0002row3_col0\" class=\"data row3 col0\" >0.67</td>\n",
              "                        <td id=\"T_8b0b49e8_4ae5_11ec_8fc3_0242ac1c0002row3_col1\" class=\"data row3 col1\" >-0.55</td>\n",
              "                        <td id=\"T_8b0b49e8_4ae5_11ec_8fc3_0242ac1c0002row3_col2\" class=\"data row3 col2\" >0.20</td>\n",
              "                        <td id=\"T_8b0b49e8_4ae5_11ec_8fc3_0242ac1c0002row3_col3\" class=\"data row3 col3\" >1.00</td>\n",
              "                        <td id=\"T_8b0b49e8_4ae5_11ec_8fc3_0242ac1c0002row3_col4\" class=\"data row3 col4\" >0.31</td>\n",
              "                        <td id=\"T_8b0b49e8_4ae5_11ec_8fc3_0242ac1c0002row3_col5\" class=\"data row3 col5\" >0.11</td>\n",
              "                        <td id=\"T_8b0b49e8_4ae5_11ec_8fc3_0242ac1c0002row3_col6\" class=\"data row3 col6\" >0.36</td>\n",
              "                        <td id=\"T_8b0b49e8_4ae5_11ec_8fc3_0242ac1c0002row3_col7\" class=\"data row3 col7\" >0.04</td>\n",
              "                        <td id=\"T_8b0b49e8_4ae5_11ec_8fc3_0242ac1c0002row3_col8\" class=\"data row3 col8\" >0.23</td>\n",
              "            </tr>\n",
              "            <tr>\n",
              "                        <th id=\"T_8b0b49e8_4ae5_11ec_8fc3_0242ac1c0002level0_row4\" class=\"row_heading level0 row4\" >sulphates</th>\n",
              "                        <td id=\"T_8b0b49e8_4ae5_11ec_8fc3_0242ac1c0002row4_col0\" class=\"data row4 col0\" >0.18</td>\n",
              "                        <td id=\"T_8b0b49e8_4ae5_11ec_8fc3_0242ac1c0002row4_col1\" class=\"data row4 col1\" >-0.26</td>\n",
              "                        <td id=\"T_8b0b49e8_4ae5_11ec_8fc3_0242ac1c0002row4_col2\" class=\"data row4 col2\" >0.37</td>\n",
              "                        <td id=\"T_8b0b49e8_4ae5_11ec_8fc3_0242ac1c0002row4_col3\" class=\"data row4 col3\" >0.31</td>\n",
              "                        <td id=\"T_8b0b49e8_4ae5_11ec_8fc3_0242ac1c0002row4_col4\" class=\"data row4 col4\" >1.00</td>\n",
              "                        <td id=\"T_8b0b49e8_4ae5_11ec_8fc3_0242ac1c0002row4_col5\" class=\"data row4 col5\" >0.09</td>\n",
              "                        <td id=\"T_8b0b49e8_4ae5_11ec_8fc3_0242ac1c0002row4_col6\" class=\"data row4 col6\" >0.15</td>\n",
              "                        <td id=\"T_8b0b49e8_4ae5_11ec_8fc3_0242ac1c0002row4_col7\" class=\"data row4 col7\" >0.04</td>\n",
              "                        <td id=\"T_8b0b49e8_4ae5_11ec_8fc3_0242ac1c0002row4_col8\" class=\"data row4 col8\" >0.25</td>\n",
              "            </tr>\n",
              "            <tr>\n",
              "                        <th id=\"T_8b0b49e8_4ae5_11ec_8fc3_0242ac1c0002level0_row5\" class=\"row_heading level0 row5\" >alcohol</th>\n",
              "                        <td id=\"T_8b0b49e8_4ae5_11ec_8fc3_0242ac1c0002row5_col0\" class=\"data row5 col0\" >-0.06</td>\n",
              "                        <td id=\"T_8b0b49e8_4ae5_11ec_8fc3_0242ac1c0002row5_col1\" class=\"data row5 col1\" >-0.20</td>\n",
              "                        <td id=\"T_8b0b49e8_4ae5_11ec_8fc3_0242ac1c0002row5_col2\" class=\"data row5 col2\" >-0.22</td>\n",
              "                        <td id=\"T_8b0b49e8_4ae5_11ec_8fc3_0242ac1c0002row5_col3\" class=\"data row5 col3\" >0.11</td>\n",
              "                        <td id=\"T_8b0b49e8_4ae5_11ec_8fc3_0242ac1c0002row5_col4\" class=\"data row5 col4\" >0.09</td>\n",
              "                        <td id=\"T_8b0b49e8_4ae5_11ec_8fc3_0242ac1c0002row5_col5\" class=\"data row5 col5\" >1.00</td>\n",
              "                        <td id=\"T_8b0b49e8_4ae5_11ec_8fc3_0242ac1c0002row5_col6\" class=\"data row5 col6\" >-0.50</td>\n",
              "                        <td id=\"T_8b0b49e8_4ae5_11ec_8fc3_0242ac1c0002row5_col7\" class=\"data row5 col7\" >-0.21</td>\n",
              "                        <td id=\"T_8b0b49e8_4ae5_11ec_8fc3_0242ac1c0002row5_col8\" class=\"data row5 col8\" >0.48</td>\n",
              "            </tr>\n",
              "            <tr>\n",
              "                        <th id=\"T_8b0b49e8_4ae5_11ec_8fc3_0242ac1c0002level0_row6\" class=\"row_heading level0 row6\" >density</th>\n",
              "                        <td id=\"T_8b0b49e8_4ae5_11ec_8fc3_0242ac1c0002row6_col0\" class=\"data row6 col0\" >0.67</td>\n",
              "                        <td id=\"T_8b0b49e8_4ae5_11ec_8fc3_0242ac1c0002row6_col1\" class=\"data row6 col1\" >0.02</td>\n",
              "                        <td id=\"T_8b0b49e8_4ae5_11ec_8fc3_0242ac1c0002row6_col2\" class=\"data row6 col2\" >0.20</td>\n",
              "                        <td id=\"T_8b0b49e8_4ae5_11ec_8fc3_0242ac1c0002row6_col3\" class=\"data row6 col3\" >0.36</td>\n",
              "                        <td id=\"T_8b0b49e8_4ae5_11ec_8fc3_0242ac1c0002row6_col4\" class=\"data row6 col4\" >0.15</td>\n",
              "                        <td id=\"T_8b0b49e8_4ae5_11ec_8fc3_0242ac1c0002row6_col5\" class=\"data row6 col5\" >-0.50</td>\n",
              "                        <td id=\"T_8b0b49e8_4ae5_11ec_8fc3_0242ac1c0002row6_col6\" class=\"data row6 col6\" >1.00</td>\n",
              "                        <td id=\"T_8b0b49e8_4ae5_11ec_8fc3_0242ac1c0002row6_col7\" class=\"data row6 col7\" >0.07</td>\n",
              "                        <td id=\"T_8b0b49e8_4ae5_11ec_8fc3_0242ac1c0002row6_col8\" class=\"data row6 col8\" >-0.17</td>\n",
              "            </tr>\n",
              "            <tr>\n",
              "                        <th id=\"T_8b0b49e8_4ae5_11ec_8fc3_0242ac1c0002level0_row7\" class=\"row_heading level0 row7\" >total sulfur dioxide</th>\n",
              "                        <td id=\"T_8b0b49e8_4ae5_11ec_8fc3_0242ac1c0002row7_col0\" class=\"data row7 col0\" >-0.11</td>\n",
              "                        <td id=\"T_8b0b49e8_4ae5_11ec_8fc3_0242ac1c0002row7_col1\" class=\"data row7 col1\" >0.08</td>\n",
              "                        <td id=\"T_8b0b49e8_4ae5_11ec_8fc3_0242ac1c0002row7_col2\" class=\"data row7 col2\" >0.05</td>\n",
              "                        <td id=\"T_8b0b49e8_4ae5_11ec_8fc3_0242ac1c0002row7_col3\" class=\"data row7 col3\" >0.04</td>\n",
              "                        <td id=\"T_8b0b49e8_4ae5_11ec_8fc3_0242ac1c0002row7_col4\" class=\"data row7 col4\" >0.04</td>\n",
              "                        <td id=\"T_8b0b49e8_4ae5_11ec_8fc3_0242ac1c0002row7_col5\" class=\"data row7 col5\" >-0.21</td>\n",
              "                        <td id=\"T_8b0b49e8_4ae5_11ec_8fc3_0242ac1c0002row7_col6\" class=\"data row7 col6\" >0.07</td>\n",
              "                        <td id=\"T_8b0b49e8_4ae5_11ec_8fc3_0242ac1c0002row7_col7\" class=\"data row7 col7\" >1.00</td>\n",
              "                        <td id=\"T_8b0b49e8_4ae5_11ec_8fc3_0242ac1c0002row7_col8\" class=\"data row7 col8\" >-0.19</td>\n",
              "            </tr>\n",
              "            <tr>\n",
              "                        <th id=\"T_8b0b49e8_4ae5_11ec_8fc3_0242ac1c0002level0_row8\" class=\"row_heading level0 row8\" >quality</th>\n",
              "                        <td id=\"T_8b0b49e8_4ae5_11ec_8fc3_0242ac1c0002row8_col0\" class=\"data row8 col0\" >0.12</td>\n",
              "                        <td id=\"T_8b0b49e8_4ae5_11ec_8fc3_0242ac1c0002row8_col1\" class=\"data row8 col1\" >-0.39</td>\n",
              "                        <td id=\"T_8b0b49e8_4ae5_11ec_8fc3_0242ac1c0002row8_col2\" class=\"data row8 col2\" >-0.13</td>\n",
              "                        <td id=\"T_8b0b49e8_4ae5_11ec_8fc3_0242ac1c0002row8_col3\" class=\"data row8 col3\" >0.23</td>\n",
              "                        <td id=\"T_8b0b49e8_4ae5_11ec_8fc3_0242ac1c0002row8_col4\" class=\"data row8 col4\" >0.25</td>\n",
              "                        <td id=\"T_8b0b49e8_4ae5_11ec_8fc3_0242ac1c0002row8_col5\" class=\"data row8 col5\" >0.48</td>\n",
              "                        <td id=\"T_8b0b49e8_4ae5_11ec_8fc3_0242ac1c0002row8_col6\" class=\"data row8 col6\" >-0.17</td>\n",
              "                        <td id=\"T_8b0b49e8_4ae5_11ec_8fc3_0242ac1c0002row8_col7\" class=\"data row8 col7\" >-0.19</td>\n",
              "                        <td id=\"T_8b0b49e8_4ae5_11ec_8fc3_0242ac1c0002row8_col8\" class=\"data row8 col8\" >1.00</td>\n",
              "            </tr>\n",
              "    </tbody></table>"
            ],
            "text/plain": [
              "<pandas.io.formats.style.Styler at 0x7fb7cd1a4190>"
            ]
          },
          "metadata": {},
          "execution_count": 263
        }
      ]
    },
    {
      "cell_type": "code",
      "metadata": {
        "id": "zdamfxKd_uA-",
        "colab": {
          "base_uri": "https://localhost:8080/"
        },
        "outputId": "fc4934fd-4392-4a39-ec56-87547a1da7c3"
      },
      "source": [
        "#  bỏ 'fix acidity' vì có cor lớn với 'citric acid'\n",
        "dt2 = dt[['volatile acidity','sulphates','alcohol','chlorides','quality','total sulfur dioxide','density']]\n",
        "dt2.shape"
      ],
      "execution_count": 264,
      "outputs": [
        {
          "output_type": "execute_result",
          "data": {
            "text/plain": [
              "(1599, 7)"
            ]
          },
          "metadata": {},
          "execution_count": 264
        }
      ]
    },
    {
      "cell_type": "code",
      "metadata": {
        "id": "9gxPrQzAiLgL"
      },
      "source": [
        ""
      ],
      "execution_count": 264,
      "outputs": []
    },
    {
      "cell_type": "code",
      "metadata": {
        "colab": {
          "base_uri": "https://localhost:8080/",
          "height": 400
        },
        "id": "BwwS94iw__ge",
        "outputId": "23c55256-efb3-4374-8133-9ba6a7836da9"
      },
      "source": [
        "fig = plt.figure(figsize = (15,15))\n",
        "ax = fig.gca()\n",
        "dt2.plot(kind= 'box', subplots = True, layout = (4,4),sharex = False, sharey = False, fontsize = 8, ax = ax)\n",
        "plt.show"
      ],
      "execution_count": 265,
      "outputs": [
        {
          "output_type": "stream",
          "name": "stderr",
          "text": [
            "/usr/local/lib/python3.7/dist-packages/pandas/plotting/_matplotlib/__init__.py:61: UserWarning: To output multiple subplots, the figure containing the passed axes is being cleared\n",
            "  plot_obj.generate()\n"
          ]
        },
        {
          "output_type": "execute_result",
          "data": {
            "text/plain": [
              "<function matplotlib.pyplot.show>"
            ]
          },
          "metadata": {},
          "execution_count": 265
        },
        {
          "output_type": "display_data",
          "data": {
            "image/png": "[encoded data removed]",
            "text/plain": [
              "<Figure size 1080x1080 with 16 Axes>"
            ]
          },
          "metadata": {
            "needs_background": "light"
          }
        }
      ]
    },
    {
      "cell_type": "code",
      "metadata": {
        "id": "yKrcUaHi__km"
      },
      "source": [
        "# bỏ outlier \n",
        "dt2 = dt2[dt2['sulphates'] < 1.25]\n",
        "X = dt2[['volatile acidity','sulphates','alcohol','chlorides','total sulfur dioxide','density']]\n",
        "Y = dt2['quality']\n",
        "x_train, x_test, y_train, y_test = train_test_split(X, Y, test_size= 0.2, random_state=25)"
      ],
      "execution_count": 266,
      "outputs": []
    },
    {
      "cell_type": "code",
      "metadata": {
        "id": "wzPTTcLT__ne"
      },
      "source": [
        "mdl2 = LinearRegression().fit(x_train,y_train)\n",
        "y_predict = mdl2.predict(x_test)"
      ],
      "execution_count": 267,
      "outputs": []
    },
    {
      "cell_type": "code",
      "metadata": {
        "id": "GOo3pnnC__qO",
        "colab": {
          "base_uri": "https://localhost:8080/",
          "height": 282
        },
        "outputId": "a9c78350-3d12-4b50-c188-4d4a47b5d2f3"
      },
      "source": [
        "\n",
        "plt.scatter(y_predict,y_test)"
      ],
      "execution_count": 268,
      "outputs": [
        {
          "output_type": "execute_result",
          "data": {
            "text/plain": [
              "<matplotlib.collections.PathCollection at 0x7fb7cd94af10>"
            ]
          },
          "metadata": {},
          "execution_count": 268
        },
        {
          "output_type": "display_data",
          "data": {
            "image/png": "[encoded data removed]",
            "text/plain": [
              "<Figure size 432x288 with 1 Axes>"
            ]
          },
          "metadata": {
            "needs_background": "light"
          }
        }
      ]
    },
    {
      "cell_type": "code",
      "metadata": {
        "colab": {
          "base_uri": "https://localhost:8080/"
        },
        "id": "JnhRLkr8iN3o",
        "outputId": "55d32f23-899c-4897-daa5-e263fdb56c1f"
      },
      "source": [
        "from sklearn.metrics import r2_score\n",
        "print('MAE', metrics.mean_absolute_error(y_test,y_predict))\n",
        "print('MAPE',metrics.mean_absolute_percentage_error(y_test,y_predict))\n",
        "print('RMSE',np.sqrt(metrics.mean_squared_error(y_test,y_predict)))\n",
        "print('R-Square',mdl2.score(x_train,y_train))\n",
        "r2 = mdl2.score(x_train,y_train)\n",
        "print('Adjust R_square', 1 - ((1 - r2) * (len(x_train) - 1) / (len(x_train) - 3 - 1)) )"
      ],
      "execution_count": 269,
      "outputs": [
        {
          "output_type": "stream",
          "name": "stdout",
          "text": [
            "MAE 0.5499407281516981\n",
            "MAPE 0.10584420067116845\n",
            "RMSE 0.7039066467055328\n",
            "R-Square 0.37140803877745576\n",
            "Adjust R_square 0.3699125781242697\n"
          ]
        }
      ]
    },
    {
      "cell_type": "markdown",
      "metadata": {
        "id": "x6WlJUL-99uT"
      },
      "source": [
        "SVR"
      ]
    },
    {
      "cell_type": "code",
      "metadata": {
        "id": "KvhsYuql98dU"
      },
      "source": [
        "from sklearn.svm import SVR \n",
        "from sklearn.pipeline import make_pipeline\n",
        "from sklearn.preprocessing import StandardScaler"
      ],
      "execution_count": 270,
      "outputs": []
    },
    {
      "cell_type": "code",
      "metadata": {
        "colab": {
          "base_uri": "https://localhost:8080/"
        },
        "id": "DY1px9Rb98gP",
        "outputId": "57fdc206-fd49-451c-c00e-593cfc1781a6"
      },
      "source": [
        "regr = make_pipeline(StandardScaler(), SVR(kernel='rbf',C = 1.0, epsilon =0.3))\n",
        "regr.fit(x_train, y_train)"
      ],
      "execution_count": 271,
      "outputs": [
        {
          "output_type": "execute_result",
          "data": {
            "text/plain": [
              "Pipeline(steps=[('standardscaler', StandardScaler()),\n",
              "                ('svr', SVR(epsilon=0.3))])"
            ]
          },
          "metadata": {},
          "execution_count": 271
        }
      ]
    },
    {
      "cell_type": "code",
      "metadata": {
        "id": "FS9RaaaK98jF"
      },
      "source": [
        "svr_test_pred = regr.predict(x_test)"
      ],
      "execution_count": 272,
      "outputs": []
    },
    {
      "cell_type": "code",
      "metadata": {
        "colab": {
          "base_uri": "https://localhost:8080/"
        },
        "id": "OFIasK7Y98mC",
        "outputId": "fefefcd8-61b3-4041-ccbe-ebd05928302e"
      },
      "source": [
        "print('MAE:', metrics.mean_absolute_error(y_test, svr_test_pred))\n",
        "print('MSE:', metrics.mean_squared_error(y_test, svr_test_pred))\n",
        "print('RMSE:', np.sqrt(metrics.mean_squared_error(y_test, svr_test_pred)))\n",
        "print('R-Square',regr.score(x_train,y_train))\n",
        "r2 = regr.score(x_train,y_train)\n",
        "print('Adjust R_square', 1 - ((1 - r2) * (len(x_train) - 1) / (len(x_train) - 6 - 1)) )"
      ],
      "execution_count": 273,
      "outputs": [
        {
          "output_type": "stream",
          "name": "stdout",
          "text": [
            "MAE: 0.5375532420585737\n",
            "MSE: 0.4797011865647241\n",
            "RMSE: 0.6926046394334391\n",
            "R-Square 0.49343647955122416\n",
            "Adjust R_square 0.49102043732332856\n"
          ]
        }
      ]
    },
    {
      "cell_type": "code",
      "metadata": {
        "colab": {
          "base_uri": "https://localhost:8080/",
          "height": 282
        },
        "id": "JeWCBWAnESsC",
        "outputId": "5029e881-3fa4-4d2b-c01a-c5523c28dada"
      },
      "source": [
        "\n",
        "plt.scatter(svr_test_pred,y_test)"
      ],
      "execution_count": 274,
      "outputs": [
        {
          "output_type": "execute_result",
          "data": {
            "text/plain": [
              "<matplotlib.collections.PathCollection at 0x7fb7cd08ad50>"
            ]
          },
          "metadata": {},
          "execution_count": 274
        },
        {
          "output_type": "display_data",
          "data": {
            "image/png": "[encoded data removed]",
            "text/plain": [
              "<Figure size 432x288 with 1 Axes>"
            ]
          },
          "metadata": {
            "needs_background": "light"
          }
        }
      ]
    },
    {
      "cell_type": "code",
      "metadata": {
        "colab": {
          "base_uri": "https://localhost:8080/"
        },
        "id": "Mi5DxhnH98pX",
        "outputId": "5636c5f0-a7ab-461e-fa27-df4934d270ae"
      },
      "source": [
        "from sklearn import  svm, datasets\n",
        "from sklearn.model_selection import  GridSearchCV\n",
        "sc=StandardScaler()\n",
        "x_train=sc.fit_transform(x_train)\n",
        "x_test=sc.fit_transform(x_test)\n",
        "parameters={'kernel':['linear','rbf'],'C':[1,10]}\n",
        "svc=svm.SVR()\n",
        "clf=GridSearchCV(svc,param_grid=parameters)\n",
        "clf.fit(x_train,y_train)"
      ],
      "execution_count": 275,
      "outputs": [
        {
          "output_type": "execute_result",
          "data": {
            "text/plain": [
              "GridSearchCV(estimator=SVR(),\n",
              "             param_grid={'C': [1, 10], 'kernel': ['linear', 'rbf']})"
            ]
          },
          "metadata": {},
          "execution_count": 275
        }
      ]
    },
    {
      "cell_type": "code",
      "metadata": {
        "colab": {
          "base_uri": "https://localhost:8080/"
        },
        "id": "6rENOL6d98sS",
        "outputId": "06881de5-44be-4cd0-fb4f-8a3613f55d45"
      },
      "source": [
        "clf.best_params_"
      ],
      "execution_count": 276,
      "outputs": [
        {
          "output_type": "execute_result",
          "data": {
            "text/plain": [
              "{'C': 1, 'kernel': 'rbf'}"
            ]
          },
          "metadata": {},
          "execution_count": 276
        }
      ]
    },
    {
      "cell_type": "code",
      "metadata": {
        "id": "j6PnA6jU98vK"
      },
      "source": [
        "pred=clf.predict(x_test)"
      ],
      "execution_count": 277,
      "outputs": []
    },
    {
      "cell_type": "code",
      "metadata": {
        "colab": {
          "base_uri": "https://localhost:8080/"
        },
        "id": "6Ed1kJba98yd",
        "outputId": "7600d6ae-b861-4d94-9e5d-35e34e3bd712"
      },
      "source": [
        "print('MAE:', metrics.mean_absolute_error(y_test, pred))\n",
        "print('MSE:', metrics.mean_squared_error(y_test, pred))\n",
        "print('RMSE:', np.sqrt(metrics.mean_squared_error(y_test, pred)))\n",
        "print('R-Square',regr.score(x_train,y_train))\n",
        "r2 = regr.score(x_train,y_train)\n",
        "print('Adjust R_square', 1 - ((1 - r2) * (len(x_train) - 1) / (len(x_train) - 6 - 1)) )"
      ],
      "execution_count": 278,
      "outputs": [
        {
          "output_type": "stream",
          "name": "stdout",
          "text": [
            "MAE: 0.5099955092826188\n",
            "MSE: 0.4874201359511317\n",
            "RMSE: 0.6981548080126153\n",
            "R-Square -0.014076431745437823\n",
            "Adjust R_square -0.01891304429748275\n"
          ]
        },
        {
          "output_type": "stream",
          "name": "stderr",
          "text": [
            "/usr/local/lib/python3.7/dist-packages/sklearn/base.py:446: UserWarning: X does not have valid feature names, but StandardScaler was fitted with feature names\n",
            "  \"X does not have valid feature names, but\"\n",
            "/usr/local/lib/python3.7/dist-packages/sklearn/base.py:446: UserWarning: X does not have valid feature names, but StandardScaler was fitted with feature names\n",
            "  \"X does not have valid feature names, but\"\n"
          ]
        }
      ]
    },
    {
      "cell_type": "code",
      "metadata": {
        "colab": {
          "base_uri": "https://localhost:8080/"
        },
        "id": "uTOsK017QtWJ",
        "outputId": "fa109511-f90f-47be-a474-e5763a83a163"
      },
      "source": [
        "data = pd.DataFrame({'y_test':y_test,'Predict':pred})\n",
        "data['y_test']= round(data['Predict'],2)\n",
        "print(data.head(10))"
      ],
      "execution_count": 280,
      "outputs": [
        {
          "output_type": "stream",
          "name": "stdout",
          "text": [
            "      y_test   Predict\n",
            "23      5.11  5.114923\n",
            "548     5.98  5.982967\n",
            "127     4.46  4.460355\n",
            "1378    5.31  5.311771\n",
            "439     5.19  5.193134\n",
            "1445    5.01  5.014059\n",
            "913     6.77  6.765570\n",
            "412     5.02  5.023493\n",
            "1505    5.35  5.354026\n",
            "107     5.11  5.114197\n"
          ]
        }
      ]
    },
    {
      "cell_type": "code",
      "metadata": {
        "colab": {
          "base_uri": "https://localhost:8080/",
          "height": 279
        },
        "id": "qtvRlAp3EABE",
        "outputId": "5826560c-0e5b-48cc-f05d-615d6c43cc13"
      },
      "source": [
        "fig, ax = plt.subplots()\n",
        "ax.scatter(y_test,pred)\n",
        "ax.set_xlabel('Y')\n",
        "ax.set_ylabel('Y_Predict')\n",
        "plt.show()"
      ],
      "execution_count": 279,
      "outputs": [
        {
          "output_type": "display_data",
          "data": {
            "image/png": "[encoded data removed]",
            "text/plain": [
              "<Figure size 432x288 with 1 Axes>"
            ]
          },
          "metadata": {
            "needs_background": "light"
          }
        }
      ]
    },
    {
      "cell_type": "code",
      "metadata": {
        "colab": {
          "base_uri": "https://localhost:8080/",
          "height": 282
        },
        "id": "Xjo7jqdtRAMC",
        "outputId": "70c34cdf-570c-4daa-dd05-52ed0ecdd5e0"
      },
      "source": [
        "plt.scatter(y_test,pred)"
      ],
      "execution_count": 281,
      "outputs": [
        {
          "output_type": "execute_result",
          "data": {
            "text/plain": [
              "<matplotlib.collections.PathCollection at 0x7fb7cd0f3a90>"
            ]
          },
          "metadata": {},
          "execution_count": 281
        },
        {
          "output_type": "display_data",
          "data": {
            "image/png": "[encoded data removed]",
            "text/plain": [
              "<Figure size 432x288 with 1 Axes>"
            ]
          },
          "metadata": {
            "needs_background": "light"
          }
        }
      ]
    }
  ]
}