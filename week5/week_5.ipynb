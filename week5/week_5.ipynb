{
  "nbformat": 4,
  "nbformat_minor": 0,
  "metadata": {
    "colab": {
      "name": "week_5.ipynb",
      "provenance": [],
      "collapsed_sections": []
    },
    "kernelspec": {
      "name": "python3",
      "display_name": "Python 3"
    },
    "language_info": {
      "name": "python"
    }
  },
  "cells": [
    {
      "cell_type": "code",
      "metadata": {
        "id": "MUjlOPM7_Vgw"
      },
      "source": [
        "import pandas as pd \n",
        "import numpy as np "
      ],
      "execution_count": 9,
      "outputs": []
    },
    {
      "cell_type": "markdown",
      "metadata": {
        "id": "cXaMqEU1zc78"
      },
      "source": [
        "Load dataset nyc_weather_2018 and weather_stations, then calculate the average elevation of stations that calculat‘SNOW’ and contains ‘NJ US’ in its name."
      ]
    },
    {
      "cell_type": "code",
      "metadata": {
        "colab": {
          "base_uri": "https://localhost:8080/"
        },
        "id": "_ygPcP0n-GZI",
        "outputId": "fc74df22-bdde-4ee2-a8c3-ca9363a42d79"
      },
      "source": [
        "# merges với nhau \n",
        "weather_1 = pd.read_csv(\"/content/nyc_weather_2018.csv\")\n",
        "weather_2 = pd.read_csv(\"/content/weather_stations.csv\")\n",
        "A = weather_1[(weather_1.datatype == 'SNOW')].drop_duplicates('station')\n",
        "print(A.shape)"
      ],
      "execution_count": null,
      "outputs": [
        {
          "output_type": "stream",
          "name": "stdout",
          "text": [
            "(98, 5)\n"
          ]
        }
      ]
    },
    {
      "cell_type": "code",
      "metadata": {
        "colab": {
          "base_uri": "https://localhost:8080/",
          "height": 484
        },
        "id": "Py1U4NBnAPQP",
        "outputId": "a74b2835-9fed-4526-8310-26496bf7d0c8"
      },
      "source": [
        "weather_2.head()\n",
        "weather_2 = weather_2.rename(columns={'id': 'station'})\n",
        "weather_2.head(10)\n"
      ],
      "execution_count": null,
      "outputs": [
        {
          "output_type": "execute_result",
          "data": {
            "text/html": [
              "<div>\n",
              "<style scoped>\n",
              "    .dataframe tbody tr th:only-of-type {\n",
              "        vertical-align: middle;\n",
              "    }\n",
              "\n",
              "    .dataframe tbody tr th {\n",
              "        vertical-align: top;\n",
              "    }\n",
              "\n",
              "    .dataframe thead th {\n",
              "        text-align: right;\n",
              "    }\n",
              "</style>\n",
              "<table border=\"1\" class=\"dataframe\">\n",
              "  <thead>\n",
              "    <tr style=\"text-align: right;\">\n",
              "      <th></th>\n",
              "      <th>station</th>\n",
              "      <th>name</th>\n",
              "      <th>latitude</th>\n",
              "      <th>longitude</th>\n",
              "      <th>elevation</th>\n",
              "    </tr>\n",
              "  </thead>\n",
              "  <tbody>\n",
              "    <tr>\n",
              "      <th>0</th>\n",
              "      <td>GHCND:US1CTFR0022</td>\n",
              "      <td>STAMFORD 2.6 SSW, CT US</td>\n",
              "      <td>41.064100</td>\n",
              "      <td>-73.577000</td>\n",
              "      <td>36.6</td>\n",
              "    </tr>\n",
              "    <tr>\n",
              "      <th>1</th>\n",
              "      <td>GHCND:US1CTFR0039</td>\n",
              "      <td>STAMFORD 4.2 S, CT US</td>\n",
              "      <td>41.037788</td>\n",
              "      <td>-73.568176</td>\n",
              "      <td>6.4</td>\n",
              "    </tr>\n",
              "    <tr>\n",
              "      <th>2</th>\n",
              "      <td>GHCND:US1NJBG0001</td>\n",
              "      <td>BERGENFIELD 0.3 SW, NJ US</td>\n",
              "      <td>40.921298</td>\n",
              "      <td>-74.001983</td>\n",
              "      <td>20.1</td>\n",
              "    </tr>\n",
              "    <tr>\n",
              "      <th>3</th>\n",
              "      <td>GHCND:US1NJBG0002</td>\n",
              "      <td>SADDLE BROOK TWP 0.6 E, NJ US</td>\n",
              "      <td>40.902694</td>\n",
              "      <td>-74.083358</td>\n",
              "      <td>16.8</td>\n",
              "    </tr>\n",
              "    <tr>\n",
              "      <th>4</th>\n",
              "      <td>GHCND:US1NJBG0003</td>\n",
              "      <td>TENAFLY 1.3 W, NJ US</td>\n",
              "      <td>40.914670</td>\n",
              "      <td>-73.977500</td>\n",
              "      <td>21.6</td>\n",
              "    </tr>\n",
              "    <tr>\n",
              "      <th>5</th>\n",
              "      <td>GHCND:US1NJBG0005</td>\n",
              "      <td>WESTWOOD 0.8 ESE, NJ US</td>\n",
              "      <td>40.983041</td>\n",
              "      <td>-74.015858</td>\n",
              "      <td>15.8</td>\n",
              "    </tr>\n",
              "    <tr>\n",
              "      <th>6</th>\n",
              "      <td>GHCND:US1NJBG0006</td>\n",
              "      <td>RAMSEY 0.6 E, NJ US</td>\n",
              "      <td>41.058611</td>\n",
              "      <td>-74.134068</td>\n",
              "      <td>112.2</td>\n",
              "    </tr>\n",
              "    <tr>\n",
              "      <th>7</th>\n",
              "      <td>GHCND:US1NJBG0008</td>\n",
              "      <td>SADDLE BROOK TWP 0.3 NNE, NJ US</td>\n",
              "      <td>40.907116</td>\n",
              "      <td>-74.093406</td>\n",
              "      <td>12.8</td>\n",
              "    </tr>\n",
              "    <tr>\n",
              "      <th>8</th>\n",
              "      <td>GHCND:US1NJBG0010</td>\n",
              "      <td>RIVER VALE TWP 1.5 S, NJ US</td>\n",
              "      <td>40.991450</td>\n",
              "      <td>-74.012348</td>\n",
              "      <td>9.4</td>\n",
              "    </tr>\n",
              "    <tr>\n",
              "      <th>9</th>\n",
              "      <td>GHCND:US1NJBG0011</td>\n",
              "      <td>NORTH ARLINGTON 0.7 NE, NJ US</td>\n",
              "      <td>40.794355</td>\n",
              "      <td>-74.119043</td>\n",
              "      <td>8.2</td>\n",
              "    </tr>\n",
              "  </tbody>\n",
              "</table>\n",
              "</div>"
            ],
            "text/plain": [
              "             station                             name  ...  longitude  elevation\n",
              "0  GHCND:US1CTFR0022          STAMFORD 2.6 SSW, CT US  ... -73.577000       36.6\n",
              "1  GHCND:US1CTFR0039            STAMFORD 4.2 S, CT US  ... -73.568176        6.4\n",
              "2  GHCND:US1NJBG0001        BERGENFIELD 0.3 SW, NJ US  ... -74.001983       20.1\n",
              "3  GHCND:US1NJBG0002    SADDLE BROOK TWP 0.6 E, NJ US  ... -74.083358       16.8\n",
              "4  GHCND:US1NJBG0003             TENAFLY 1.3 W, NJ US  ... -73.977500       21.6\n",
              "5  GHCND:US1NJBG0005          WESTWOOD 0.8 ESE, NJ US  ... -74.015858       15.8\n",
              "6  GHCND:US1NJBG0006              RAMSEY 0.6 E, NJ US  ... -74.134068      112.2\n",
              "7  GHCND:US1NJBG0008  SADDLE BROOK TWP 0.3 NNE, NJ US  ... -74.093406       12.8\n",
              "8  GHCND:US1NJBG0010      RIVER VALE TWP 1.5 S, NJ US  ... -74.012348        9.4\n",
              "9  GHCND:US1NJBG0011    NORTH ARLINGTON 0.7 NE, NJ US  ... -74.119043        8.2\n",
              "\n",
              "[10 rows x 5 columns]"
            ]
          },
          "metadata": {},
          "execution_count": 3
        }
      ]
    },
    {
      "cell_type": "code",
      "metadata": {
        "colab": {
          "base_uri": "https://localhost:8080/"
        },
        "id": "euolghLjADzc",
        "outputId": "cbbcef2d-5aed-4716-bc38-42640907d9a5"
      },
      "source": [
        "data = A.merge(weather_2, left_on='station',right_on ='station')\n",
        "data.head"
      ],
      "execution_count": null,
      "outputs": [
        {
          "output_type": "execute_result",
          "data": {
            "text/plain": [
              "<bound method NDFrame.head of                    date datatype  ...  longitude elevation\n",
              "0   2018-01-01T00:00:00     SNOW  ... -74.139790      17.7\n",
              "1   2018-01-01T00:00:00     SNOW  ... -74.118264      28.0\n",
              "2   2018-01-01T00:00:00     SNOW  ... -74.000247      21.3\n",
              "3   2018-01-01T00:00:00     SNOW  ... -74.233383     149.4\n",
              "4   2018-01-01T00:00:00     SNOW  ... -74.035372      23.2\n",
              "..                  ...      ...  ...        ...       ...\n",
              "93  2018-10-19T00:00:00     SNOW  ... -74.419420      36.3\n",
              "94  2018-11-16T00:00:00     SNOW  ... -74.425520     119.8\n",
              "95  2018-11-19T00:00:00     SNOW  ... -74.057205      14.0\n",
              "96  2018-11-21T00:00:00     SNOW  ... -74.372120      27.4\n",
              "97  2018-12-24T00:00:00     SNOW  ... -74.258300     161.2\n",
              "\n",
              "[98 rows x 9 columns]>"
            ]
          },
          "metadata": {},
          "execution_count": 4
        }
      ]
    },
    {
      "cell_type": "code",
      "metadata": {
        "colab": {
          "base_uri": "https://localhost:8080/"
        },
        "id": "eU9u5T8eAEG2",
        "outputId": "e627c240-4cd2-41e1-e427-16af0e177f5e"
      },
      "source": [
        "c = data.elevation[(data.name.str.contains('NJ US'))&(data.datatype == 'SNOW')].mean()\n",
        "print(c)"
      ],
      "execution_count": null,
      "outputs": [
        {
          "output_type": "stream",
          "name": "stdout",
          "text": [
            "58.34848484848487\n"
          ]
        }
      ]
    },
    {
      "cell_type": "markdown",
      "metadata": {
        "id": "3cq_LI5yzk-N"
      },
      "source": [
        "Load the fb dataset, then:\n",
        "1. Calculate the percentage change between that and and last day in volumn (pct_change method)\n",
        "2. Sort the dataframe by percentage change then get five days that have the biggest change."
      ]
    },
    {
      "cell_type": "code",
      "metadata": {
        "colab": {
          "base_uri": "https://localhost:8080/",
          "height": 206
        },
        "id": "C3p8GVmmAEJx",
        "outputId": "4205d029-4ef3-4a40-878b-69e5946e25f7"
      },
      "source": [
        "# ex2:\n",
        "fb = pd.read_csv(\"/content/fb_2018.csv\")\n",
        "fb.head()"
      ],
      "execution_count": null,
      "outputs": [
        {
          "output_type": "execute_result",
          "data": {
            "text/html": [
              "<div>\n",
              "<style scoped>\n",
              "    .dataframe tbody tr th:only-of-type {\n",
              "        vertical-align: middle;\n",
              "    }\n",
              "\n",
              "    .dataframe tbody tr th {\n",
              "        vertical-align: top;\n",
              "    }\n",
              "\n",
              "    .dataframe thead th {\n",
              "        text-align: right;\n",
              "    }\n",
              "</style>\n",
              "<table border=\"1\" class=\"dataframe\">\n",
              "  <thead>\n",
              "    <tr style=\"text-align: right;\">\n",
              "      <th></th>\n",
              "      <th>date</th>\n",
              "      <th>open</th>\n",
              "      <th>high</th>\n",
              "      <th>low</th>\n",
              "      <th>close</th>\n",
              "      <th>volume</th>\n",
              "    </tr>\n",
              "  </thead>\n",
              "  <tbody>\n",
              "    <tr>\n",
              "      <th>0</th>\n",
              "      <td>2018-01-02</td>\n",
              "      <td>177.68</td>\n",
              "      <td>181.58</td>\n",
              "      <td>177.5500</td>\n",
              "      <td>181.42</td>\n",
              "      <td>18151903</td>\n",
              "    </tr>\n",
              "    <tr>\n",
              "      <th>1</th>\n",
              "      <td>2018-01-03</td>\n",
              "      <td>181.88</td>\n",
              "      <td>184.78</td>\n",
              "      <td>181.3300</td>\n",
              "      <td>184.67</td>\n",
              "      <td>16886563</td>\n",
              "    </tr>\n",
              "    <tr>\n",
              "      <th>2</th>\n",
              "      <td>2018-01-04</td>\n",
              "      <td>184.90</td>\n",
              "      <td>186.21</td>\n",
              "      <td>184.0996</td>\n",
              "      <td>184.33</td>\n",
              "      <td>13880896</td>\n",
              "    </tr>\n",
              "    <tr>\n",
              "      <th>3</th>\n",
              "      <td>2018-01-05</td>\n",
              "      <td>185.59</td>\n",
              "      <td>186.90</td>\n",
              "      <td>184.9300</td>\n",
              "      <td>186.85</td>\n",
              "      <td>13574535</td>\n",
              "    </tr>\n",
              "    <tr>\n",
              "      <th>4</th>\n",
              "      <td>2018-01-08</td>\n",
              "      <td>187.20</td>\n",
              "      <td>188.90</td>\n",
              "      <td>186.3300</td>\n",
              "      <td>188.28</td>\n",
              "      <td>17994726</td>\n",
              "    </tr>\n",
              "  </tbody>\n",
              "</table>\n",
              "</div>"
            ],
            "text/plain": [
              "         date    open    high       low   close    volume\n",
              "0  2018-01-02  177.68  181.58  177.5500  181.42  18151903\n",
              "1  2018-01-03  181.88  184.78  181.3300  184.67  16886563\n",
              "2  2018-01-04  184.90  186.21  184.0996  184.33  13880896\n",
              "3  2018-01-05  185.59  186.90  184.9300  186.85  13574535\n",
              "4  2018-01-08  187.20  188.90  186.3300  188.28  17994726"
            ]
          },
          "metadata": {},
          "execution_count": 15
        }
      ]
    },
    {
      "cell_type": "code",
      "metadata": {
        "colab": {
          "base_uri": "https://localhost:8080/"
        },
        "id": "BNy7cSL6P8ZD",
        "outputId": "e8028fb8-7aee-493c-934f-3abee227d3b7"
      },
      "source": [
        "# hàm pandas.pct_change() : tính phần trăm thay đổi theo dòng sau chia dòng trước \n",
        "fb = fb.assign(pct_change = lambda x: x.volume.pct_change())\n",
        "print(fb.head())"
      ],
      "execution_count": null,
      "outputs": [
        {
          "output_type": "stream",
          "name": "stdout",
          "text": [
            "         date    open    high       low   close    volume  pct_change\n",
            "0  2018-01-02  177.68  181.58  177.5500  181.42  18151903         NaN\n",
            "1  2018-01-03  181.88  184.78  181.3300  184.67  16886563   -0.069708\n",
            "2  2018-01-04  184.90  186.21  184.0996  184.33  13880896   -0.177992\n",
            "3  2018-01-05  185.59  186.90  184.9300  186.85  13574535   -0.022071\n",
            "4  2018-01-08  187.20  188.90  186.3300  188.28  17994726    0.325624\n"
          ]
        }
      ]
    },
    {
      "cell_type": "code",
      "metadata": {
        "colab": {
          "base_uri": "https://localhost:8080/",
          "height": 206
        },
        "id": "sfjf3BZz3EU5",
        "outputId": "46942c37-8bce-459c-d431-1b571b0cdfc9"
      },
      "source": [
        "fb.sort_values(by = \"pct_change\",ascending= False).head(5)"
      ],
      "execution_count": null,
      "outputs": [
        {
          "output_type": "execute_result",
          "data": {
            "text/html": [
              "<div>\n",
              "<style scoped>\n",
              "    .dataframe tbody tr th:only-of-type {\n",
              "        vertical-align: middle;\n",
              "    }\n",
              "\n",
              "    .dataframe tbody tr th {\n",
              "        vertical-align: top;\n",
              "    }\n",
              "\n",
              "    .dataframe thead th {\n",
              "        text-align: right;\n",
              "    }\n",
              "</style>\n",
              "<table border=\"1\" class=\"dataframe\">\n",
              "  <thead>\n",
              "    <tr style=\"text-align: right;\">\n",
              "      <th></th>\n",
              "      <th>date</th>\n",
              "      <th>open</th>\n",
              "      <th>high</th>\n",
              "      <th>low</th>\n",
              "      <th>close</th>\n",
              "      <th>volume</th>\n",
              "      <th>pct_change</th>\n",
              "    </tr>\n",
              "  </thead>\n",
              "  <tbody>\n",
              "    <tr>\n",
              "      <th>8</th>\n",
              "      <td>2018-01-12</td>\n",
              "      <td>178.06</td>\n",
              "      <td>181.48</td>\n",
              "      <td>177.40</td>\n",
              "      <td>179.37</td>\n",
              "      <td>77551299</td>\n",
              "      <td>7.087876</td>\n",
              "    </tr>\n",
              "    <tr>\n",
              "      <th>52</th>\n",
              "      <td>2018-03-19</td>\n",
              "      <td>177.01</td>\n",
              "      <td>177.17</td>\n",
              "      <td>170.06</td>\n",
              "      <td>172.56</td>\n",
              "      <td>88140060</td>\n",
              "      <td>2.611789</td>\n",
              "    </tr>\n",
              "    <tr>\n",
              "      <th>142</th>\n",
              "      <td>2018-07-26</td>\n",
              "      <td>174.89</td>\n",
              "      <td>180.13</td>\n",
              "      <td>173.75</td>\n",
              "      <td>176.26</td>\n",
              "      <td>169803668</td>\n",
              "      <td>1.628841</td>\n",
              "    </tr>\n",
              "    <tr>\n",
              "      <th>182</th>\n",
              "      <td>2018-09-21</td>\n",
              "      <td>166.64</td>\n",
              "      <td>167.25</td>\n",
              "      <td>162.81</td>\n",
              "      <td>162.93</td>\n",
              "      <td>45994800</td>\n",
              "      <td>1.428956</td>\n",
              "    </tr>\n",
              "    <tr>\n",
              "      <th>57</th>\n",
              "      <td>2018-03-26</td>\n",
              "      <td>160.82</td>\n",
              "      <td>161.10</td>\n",
              "      <td>149.02</td>\n",
              "      <td>160.06</td>\n",
              "      <td>126116634</td>\n",
              "      <td>1.352496</td>\n",
              "    </tr>\n",
              "  </tbody>\n",
              "</table>\n",
              "</div>"
            ],
            "text/plain": [
              "           date    open    high     low   close     volume  pct_change\n",
              "8    2018-01-12  178.06  181.48  177.40  179.37   77551299    7.087876\n",
              "52   2018-03-19  177.01  177.17  170.06  172.56   88140060    2.611789\n",
              "142  2018-07-26  174.89  180.13  173.75  176.26  169803668    1.628841\n",
              "182  2018-09-21  166.64  167.25  162.81  162.93   45994800    1.428956\n",
              "57   2018-03-26  160.82  161.10  149.02  160.06  126116634    1.352496"
            ]
          },
          "metadata": {},
          "execution_count": 18
        }
      ]
    },
    {
      "cell_type": "code",
      "metadata": {
        "id": "eyLw7U-bV9so"
      },
      "source": [
        "# pd.cut(fb.volume, bins = number, label = ['low','hight','mediam'])\n",
        "# pd.qcut() -> cut theo % "
      ],
      "execution_count": null,
      "outputs": []
    },
    {
      "cell_type": "markdown",
      "metadata": {
        "id": "rOYok2YN1byD"
      },
      "source": [
        "Create bins for each full number of earthquake magnitude (for instance, the first bin is (0, 1], the second is (1, 2], and so on) with the ml magnitude type and count how many are in each bin"
      ]
    },
    {
      "cell_type": "code",
      "metadata": {
        "colab": {
          "base_uri": "https://localhost:8080/",
          "height": 271
        },
        "id": "WHox-ltLXF5T",
        "outputId": "d5fd2879-fbcb-47c6-ed91-5d1181fe3ca0"
      },
      "source": [
        "dt2 = pd.read_csv(\"/content/earthquakes.csv\")\n",
        "dt2 = dt2[dt2.magType == 'ml']\n",
        "dt2.head(2)"
      ],
      "execution_count": null,
      "outputs": [
        {
          "output_type": "execute_result",
          "data": {
            "text/html": [
              "<div>\n",
              "<style scoped>\n",
              "    .dataframe tbody tr th:only-of-type {\n",
              "        vertical-align: middle;\n",
              "    }\n",
              "\n",
              "    .dataframe tbody tr th {\n",
              "        vertical-align: top;\n",
              "    }\n",
              "\n",
              "    .dataframe thead th {\n",
              "        text-align: right;\n",
              "    }\n",
              "</style>\n",
              "<table border=\"1\" class=\"dataframe\">\n",
              "  <thead>\n",
              "    <tr style=\"text-align: right;\">\n",
              "      <th></th>\n",
              "      <th>alert</th>\n",
              "      <th>cdi</th>\n",
              "      <th>code</th>\n",
              "      <th>detail</th>\n",
              "      <th>dmin</th>\n",
              "      <th>felt</th>\n",
              "      <th>gap</th>\n",
              "      <th>ids</th>\n",
              "      <th>mag</th>\n",
              "      <th>magType</th>\n",
              "      <th>mmi</th>\n",
              "      <th>net</th>\n",
              "      <th>nst</th>\n",
              "      <th>place</th>\n",
              "      <th>rms</th>\n",
              "      <th>sig</th>\n",
              "      <th>sources</th>\n",
              "      <th>status</th>\n",
              "      <th>time</th>\n",
              "      <th>title</th>\n",
              "      <th>tsunami</th>\n",
              "      <th>type</th>\n",
              "      <th>types</th>\n",
              "      <th>tz</th>\n",
              "      <th>updated</th>\n",
              "      <th>url</th>\n",
              "    </tr>\n",
              "  </thead>\n",
              "  <tbody>\n",
              "    <tr>\n",
              "      <th>0</th>\n",
              "      <td>NaN</td>\n",
              "      <td>NaN</td>\n",
              "      <td>37389218</td>\n",
              "      <td>https://earthquake.usgs.gov/fdsnws/event/1/que...</td>\n",
              "      <td>0.008693</td>\n",
              "      <td>NaN</td>\n",
              "      <td>85.0</td>\n",
              "      <td>,ci37389218,</td>\n",
              "      <td>1.35</td>\n",
              "      <td>ml</td>\n",
              "      <td>NaN</td>\n",
              "      <td>ci</td>\n",
              "      <td>26.0</td>\n",
              "      <td>9km NE of Aguanga, CA</td>\n",
              "      <td>0.19</td>\n",
              "      <td>28</td>\n",
              "      <td>,ci,</td>\n",
              "      <td>automatic</td>\n",
              "      <td>1539475168010</td>\n",
              "      <td>M 1.4 - 9km NE of Aguanga, CA</td>\n",
              "      <td>0</td>\n",
              "      <td>earthquake</td>\n",
              "      <td>,geoserve,nearby-cities,origin,phase-data,</td>\n",
              "      <td>-480.0</td>\n",
              "      <td>1539475395144</td>\n",
              "      <td>https://earthquake.usgs.gov/earthquakes/eventp...</td>\n",
              "    </tr>\n",
              "    <tr>\n",
              "      <th>1</th>\n",
              "      <td>NaN</td>\n",
              "      <td>NaN</td>\n",
              "      <td>37389202</td>\n",
              "      <td>https://earthquake.usgs.gov/fdsnws/event/1/que...</td>\n",
              "      <td>0.020030</td>\n",
              "      <td>NaN</td>\n",
              "      <td>79.0</td>\n",
              "      <td>,ci37389202,</td>\n",
              "      <td>1.29</td>\n",
              "      <td>ml</td>\n",
              "      <td>NaN</td>\n",
              "      <td>ci</td>\n",
              "      <td>20.0</td>\n",
              "      <td>9km NE of Aguanga, CA</td>\n",
              "      <td>0.29</td>\n",
              "      <td>26</td>\n",
              "      <td>,ci,</td>\n",
              "      <td>automatic</td>\n",
              "      <td>1539475129610</td>\n",
              "      <td>M 1.3 - 9km NE of Aguanga, CA</td>\n",
              "      <td>0</td>\n",
              "      <td>earthquake</td>\n",
              "      <td>,geoserve,nearby-cities,origin,phase-data,</td>\n",
              "      <td>-480.0</td>\n",
              "      <td>1539475253925</td>\n",
              "      <td>https://earthquake.usgs.gov/earthquakes/eventp...</td>\n",
              "    </tr>\n",
              "  </tbody>\n",
              "</table>\n",
              "</div>"
            ],
            "text/plain": [
              "  alert  cdi  ...        updated                                                url\n",
              "0   NaN  NaN  ...  1539475395144  https://earthquake.usgs.gov/earthquakes/eventp...\n",
              "1   NaN  NaN  ...  1539475253925  https://earthquake.usgs.gov/earthquakes/eventp...\n",
              "\n",
              "[2 rows x 26 columns]"
            ]
          },
          "metadata": {},
          "execution_count": 20
        }
      ]
    },
    {
      "cell_type": "code",
      "metadata": {
        "colab": {
          "base_uri": "https://localhost:8080/"
        },
        "id": "hCV0EWX8XNGL",
        "outputId": "bf6f4d2a-c312-4c20-d0ee-06caeb2389b5"
      },
      "source": [
        "dt2 = dt2.assign(col = pd.cut(dt2.mag, [0,1,2,3,4,5], labels=['q1','q2','q3','q4','q5']))\n",
        "print(dt2[['mag','col']].head(3))\n"
      ],
      "execution_count": null,
      "outputs": [
        {
          "output_type": "stream",
          "name": "stdout",
          "text": [
            "    mag col\n",
            "0  1.35  q2\n",
            "1  1.29  q2\n",
            "2  3.42  q4\n"
          ]
        }
      ]
    },
    {
      "cell_type": "code",
      "metadata": {
        "colab": {
          "base_uri": "https://localhost:8080/"
        },
        "id": "JVNedebDYYUi",
        "outputId": "24ca6fa5-284d-44b5-c8c4-96aaefd5f128"
      },
      "source": [
        "print(dt2.col.value_counts())"
      ],
      "execution_count": null,
      "outputs": [
        {
          "output_type": "stream",
          "name": "stdout",
          "text": [
            "q2    3105\n",
            "q1    2207\n",
            "q3     862\n",
            "q4     122\n",
            "q5       2\n",
            "Name: col, dtype: int64\n"
          ]
        }
      ]
    },
    {
      "cell_type": "markdown",
      "metadata": {
        "id": "MG7tJt1H1krX"
      },
      "source": [
        "Load the dataset weather_by_station then:\n",
        "1. Calculate the mean value each station recorded snow per month.\n",
        "2. Count the number of times each station recorded snow per month."
      ]
    },
    {
      "cell_type": "code",
      "metadata": {
        "colab": {
          "base_uri": "https://localhost:8080/"
        },
        "id": "iiVWpn7ufAbv",
        "outputId": "7fdc5a61-0060-4708-d1e7-eb1df0a199b1"
      },
      "source": [
        "dt3 = pd.read_csv(\"/content/weather_by_station.csv\")\n",
        "dt3.columns"
      ],
      "execution_count": 36,
      "outputs": [
        {
          "output_type": "execute_result",
          "data": {
            "text/plain": [
              "Index(['date', 'datatype', 'station', 'value', 'station_name'], dtype='object')"
            ]
          },
          "metadata": {},
          "execution_count": 36
        }
      ]
    },
    {
      "cell_type": "code",
      "metadata": {
        "id": "omGQihBq41GB",
        "colab": {
          "base_uri": "https://localhost:8080/"
        },
        "outputId": "6f51a7f1-ffe4-452c-8a57-6bc14cfeae13"
      },
      "source": [
        "dt3 = dt3[dt3.datatype == 'SNOW']\n",
        "print(dt3.head)"
      ],
      "execution_count": 37,
      "outputs": [
        {
          "output_type": "stream",
          "name": "stdout",
          "text": [
            "<bound method NDFrame.head of              date datatype  ... value                                 station_name\n",
            "2      2018-01-01     SNOW  ...   0.0               NORTH ARLINGTON 0.7 WNW, NJ US\n",
            "4      2018-01-01     SNOW  ...   0.0                     GLEN ROCK 0.7 SSE, NJ US\n",
            "7      2018-01-01     SNOW  ...   0.0                PALISADES PARK 0.2 WNW, NJ US\n",
            "10     2018-01-01     SNOW  ...   0.0                       OAKLAND 0.9 SSE, NJ US\n",
            "14     2018-01-01     SNOW  ...   0.0                    RIVER EDGE 0.4 NNE, NJ US\n",
            "...           ...      ...  ...   ...                                          ...\n",
            "80175  2018-12-31     SNOW  ...   0.0                               SYOSSET, NY US\n",
            "80179  2018-12-31     SNOW  ...   0.0                    LA GUARDIA AIRPORT, NY US\n",
            "80191  2018-12-31     SNOW  ...   0.0  NEWARK LIBERTY INTERNATIONAL AIRPORT, NJ US\n",
            "80220  2018-12-31     SNOW  ...   0.0                  NY CITY CENTRAL PARK, NY US\n",
            "80245  2018-12-31     SNOW  ...   0.0             JFK INTERNATIONAL AIRPORT, NY US\n",
            "\n",
            "[13395 rows x 5 columns]>\n"
          ]
        }
      ]
    },
    {
      "cell_type": "code",
      "metadata": {
        "colab": {
          "base_uri": "https://localhost:8080/"
        },
        "id": "II_3_pKoFVdk",
        "outputId": "e5e64507-bb4c-44b4-bc4d-c65bc0b31383"
      },
      "source": [
        "# result = dt3.groupby('station').mean('value')\n",
        "dt3 = dt3.assign(month =pd.DatetimeIndex(dt3['date']).month)\n",
        "result = dt3.groupby(['station','month']).mean('value')\n",
        "print(result)"
      ],
      "execution_count": 38,
      "outputs": [
        {
          "output_type": "stream",
          "name": "stdout",
          "text": [
            "                              value\n",
            "station           month            \n",
            "GHCND:US1CTFR0039 1       29.000000\n",
            "                  2       45.000000\n",
            "                  3       55.000000\n",
            "                  4      185.000000\n",
            "                  12       0.000000\n",
            "...                             ...\n",
            "GHCND:USW00094789 8        0.000000\n",
            "                  9        0.000000\n",
            "                  10       0.000000\n",
            "                  11       4.066667\n",
            "                  12       0.000000\n",
            "\n",
            "[841 rows x 1 columns]\n"
          ]
        }
      ]
    },
    {
      "cell_type": "code",
      "metadata": {
        "colab": {
          "base_uri": "https://localhost:8080/"
        },
        "id": "VZk6hrexH_92",
        "outputId": "0dcdbcb5-e13e-4c10-f494-6942bb9f5271"
      },
      "source": [
        "result2 = dt3.groupby(['station','month']).sum()\n",
        "print(result2)"
      ],
      "execution_count": 39,
      "outputs": [
        {
          "output_type": "stream",
          "name": "stdout",
          "text": [
            "                         value\n",
            "station           month       \n",
            "GHCND:US1CTFR0039 1       58.0\n",
            "                  2      135.0\n",
            "                  3      165.0\n",
            "                  4      185.0\n",
            "                  12       0.0\n",
            "...                        ...\n",
            "GHCND:USW00094789 8        0.0\n",
            "                  9        0.0\n",
            "                  10       0.0\n",
            "                  11     122.0\n",
            "                  12       0.0\n",
            "\n",
            "[841 rows x 1 columns]\n"
          ]
        }
      ]
    }
  ]
}