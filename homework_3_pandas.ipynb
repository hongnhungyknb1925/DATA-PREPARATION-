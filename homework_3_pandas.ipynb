{
  "nbformat": 4,
  "nbformat_minor": 0,
  "metadata": {
    "colab": {
      "name": "homework_3_pandas.ipynb",
      "provenance": [],
      "authorship_tag": "ABX9TyOVkzoBwQb0nP2PgboUMKB/",
      "include_colab_link": true
    },
    "kernelspec": {
      "name": "python3",
      "display_name": "Python 3"
    },
    "language_info": {
      "name": "python"
    }
  },
  "cells": [
    {
      "cell_type": "markdown",
      "metadata": {
        "id": "view-in-github",
        "colab_type": "text"
      },
      "source": [
        "<a href=\"https://colab.research.google.com/github/hongnhungyknb1925/DATA-PREPARATION-/blob/main/homework_3_pandas.ipynb\" target=\"_parent\"><img src=\"https://colab.research.google.com/assets/colab-badge.svg\" alt=\"Open In Colab\"/></a>"
      ]
    },
    {
      "cell_type": "markdown",
      "metadata": {
        "id": "CBOB3J-ze-_t"
      },
      "source": [
        "Read the earthquakes.csv file and do the following tasks:\n",
        "How many earthquake have magType 'ml' and type 'explosion'?\n",
        "Calculate the mean of mag in Alaska and the distance is smaller than 100km, example:\n",
        "\"62km W of Cantwell, Alaska\".\n",
        "\n",
        "Calculate the mean of mag in each quarter (q1:m1-m3, q2: m4-m6, q3: m7-m9, q4: m10-12), the \"time\" field stores the milliseconds from 1/1/1970, hint: timestamp."
      ]
    },
    {
      "cell_type": "code",
      "metadata": {
        "id": "awK4HoQ8e-Dv"
      },
      "source": [
        "import pandas as pd "
      ],
      "execution_count": 20,
      "outputs": []
    },
    {
      "cell_type": "code",
      "metadata": {
        "colab": {
          "base_uri": "https://localhost:8080/",
          "height": 559
        },
        "id": "MNajDrDOe-GV",
        "outputId": "9ba43e22-3eb4-4b6b-87a5-fd45581303f9"
      },
      "source": [
        "data = pd.read_csv('/content/earthquakes.csv')\n",
        "data.head()\n"
      ],
      "execution_count": 97,
      "outputs": [
        {
          "output_type": "execute_result",
          "data": {
            "text/html": [
              "<div>\n",
              "<style scoped>\n",
              "    .dataframe tbody tr th:only-of-type {\n",
              "        vertical-align: middle;\n",
              "    }\n",
              "\n",
              "    .dataframe tbody tr th {\n",
              "        vertical-align: top;\n",
              "    }\n",
              "\n",
              "    .dataframe thead th {\n",
              "        text-align: right;\n",
              "    }\n",
              "</style>\n",
              "<table border=\"1\" class=\"dataframe\">\n",
              "  <thead>\n",
              "    <tr style=\"text-align: right;\">\n",
              "      <th></th>\n",
              "      <th>alert</th>\n",
              "      <th>cdi</th>\n",
              "      <th>code</th>\n",
              "      <th>detail</th>\n",
              "      <th>dmin</th>\n",
              "      <th>felt</th>\n",
              "      <th>gap</th>\n",
              "      <th>ids</th>\n",
              "      <th>mag</th>\n",
              "      <th>magType</th>\n",
              "      <th>mmi</th>\n",
              "      <th>net</th>\n",
              "      <th>nst</th>\n",
              "      <th>place</th>\n",
              "      <th>rms</th>\n",
              "      <th>sig</th>\n",
              "      <th>sources</th>\n",
              "      <th>status</th>\n",
              "      <th>time</th>\n",
              "      <th>title</th>\n",
              "      <th>tsunami</th>\n",
              "      <th>type</th>\n",
              "      <th>types</th>\n",
              "      <th>tz</th>\n",
              "      <th>updated</th>\n",
              "      <th>url</th>\n",
              "    </tr>\n",
              "  </thead>\n",
              "  <tbody>\n",
              "    <tr>\n",
              "      <th>0</th>\n",
              "      <td>NaN</td>\n",
              "      <td>NaN</td>\n",
              "      <td>37389218</td>\n",
              "      <td>https://earthquake.usgs.gov/fdsnws/event/1/que...</td>\n",
              "      <td>0.008693</td>\n",
              "      <td>NaN</td>\n",
              "      <td>85.0</td>\n",
              "      <td>,ci37389218,</td>\n",
              "      <td>1.35</td>\n",
              "      <td>ml</td>\n",
              "      <td>NaN</td>\n",
              "      <td>ci</td>\n",
              "      <td>26.0</td>\n",
              "      <td>9km NE of Aguanga, CA</td>\n",
              "      <td>0.19</td>\n",
              "      <td>28</td>\n",
              "      <td>,ci,</td>\n",
              "      <td>automatic</td>\n",
              "      <td>1539475168010</td>\n",
              "      <td>M 1.4 - 9km NE of Aguanga, CA</td>\n",
              "      <td>0</td>\n",
              "      <td>earthquake</td>\n",
              "      <td>,geoserve,nearby-cities,origin,phase-data,</td>\n",
              "      <td>-480.0</td>\n",
              "      <td>1539475395144</td>\n",
              "      <td>https://earthquake.usgs.gov/earthquakes/eventp...</td>\n",
              "    </tr>\n",
              "    <tr>\n",
              "      <th>1</th>\n",
              "      <td>NaN</td>\n",
              "      <td>NaN</td>\n",
              "      <td>37389202</td>\n",
              "      <td>https://earthquake.usgs.gov/fdsnws/event/1/que...</td>\n",
              "      <td>0.020030</td>\n",
              "      <td>NaN</td>\n",
              "      <td>79.0</td>\n",
              "      <td>,ci37389202,</td>\n",
              "      <td>1.29</td>\n",
              "      <td>ml</td>\n",
              "      <td>NaN</td>\n",
              "      <td>ci</td>\n",
              "      <td>20.0</td>\n",
              "      <td>9km NE of Aguanga, CA</td>\n",
              "      <td>0.29</td>\n",
              "      <td>26</td>\n",
              "      <td>,ci,</td>\n",
              "      <td>automatic</td>\n",
              "      <td>1539475129610</td>\n",
              "      <td>M 1.3 - 9km NE of Aguanga, CA</td>\n",
              "      <td>0</td>\n",
              "      <td>earthquake</td>\n",
              "      <td>,geoserve,nearby-cities,origin,phase-data,</td>\n",
              "      <td>-480.0</td>\n",
              "      <td>1539475253925</td>\n",
              "      <td>https://earthquake.usgs.gov/earthquakes/eventp...</td>\n",
              "    </tr>\n",
              "    <tr>\n",
              "      <th>2</th>\n",
              "      <td>NaN</td>\n",
              "      <td>4.4</td>\n",
              "      <td>37389194</td>\n",
              "      <td>https://earthquake.usgs.gov/fdsnws/event/1/que...</td>\n",
              "      <td>0.021370</td>\n",
              "      <td>28.0</td>\n",
              "      <td>21.0</td>\n",
              "      <td>,ci37389194,</td>\n",
              "      <td>3.42</td>\n",
              "      <td>ml</td>\n",
              "      <td>NaN</td>\n",
              "      <td>ci</td>\n",
              "      <td>111.0</td>\n",
              "      <td>8km NE of Aguanga, CA</td>\n",
              "      <td>0.22</td>\n",
              "      <td>192</td>\n",
              "      <td>,ci,</td>\n",
              "      <td>automatic</td>\n",
              "      <td>1539475062610</td>\n",
              "      <td>M 3.4 - 8km NE of Aguanga, CA</td>\n",
              "      <td>0</td>\n",
              "      <td>earthquake</td>\n",
              "      <td>,dyfi,focal-mechanism,geoserve,nearby-cities,o...</td>\n",
              "      <td>-480.0</td>\n",
              "      <td>1539536756176</td>\n",
              "      <td>https://earthquake.usgs.gov/earthquakes/eventp...</td>\n",
              "    </tr>\n",
              "    <tr>\n",
              "      <th>3</th>\n",
              "      <td>NaN</td>\n",
              "      <td>NaN</td>\n",
              "      <td>37389186</td>\n",
              "      <td>https://earthquake.usgs.gov/fdsnws/event/1/que...</td>\n",
              "      <td>0.026180</td>\n",
              "      <td>NaN</td>\n",
              "      <td>39.0</td>\n",
              "      <td>,ci37389186,</td>\n",
              "      <td>0.44</td>\n",
              "      <td>ml</td>\n",
              "      <td>NaN</td>\n",
              "      <td>ci</td>\n",
              "      <td>26.0</td>\n",
              "      <td>9km NE of Aguanga, CA</td>\n",
              "      <td>0.17</td>\n",
              "      <td>3</td>\n",
              "      <td>,ci,</td>\n",
              "      <td>automatic</td>\n",
              "      <td>1539474978070</td>\n",
              "      <td>M 0.4 - 9km NE of Aguanga, CA</td>\n",
              "      <td>0</td>\n",
              "      <td>earthquake</td>\n",
              "      <td>,geoserve,nearby-cities,origin,phase-data,</td>\n",
              "      <td>-480.0</td>\n",
              "      <td>1539475196167</td>\n",
              "      <td>https://earthquake.usgs.gov/earthquakes/eventp...</td>\n",
              "    </tr>\n",
              "    <tr>\n",
              "      <th>4</th>\n",
              "      <td>NaN</td>\n",
              "      <td>NaN</td>\n",
              "      <td>73096941</td>\n",
              "      <td>https://earthquake.usgs.gov/fdsnws/event/1/que...</td>\n",
              "      <td>0.077990</td>\n",
              "      <td>NaN</td>\n",
              "      <td>192.0</td>\n",
              "      <td>,nc73096941,</td>\n",
              "      <td>2.16</td>\n",
              "      <td>md</td>\n",
              "      <td>NaN</td>\n",
              "      <td>nc</td>\n",
              "      <td>18.0</td>\n",
              "      <td>10km NW of Avenal, CA</td>\n",
              "      <td>0.05</td>\n",
              "      <td>72</td>\n",
              "      <td>,nc,</td>\n",
              "      <td>automatic</td>\n",
              "      <td>1539474716050</td>\n",
              "      <td>M 2.2 - 10km NW of Avenal, CA</td>\n",
              "      <td>0</td>\n",
              "      <td>earthquake</td>\n",
              "      <td>,geoserve,nearby-cities,origin,phase-data,scit...</td>\n",
              "      <td>-480.0</td>\n",
              "      <td>1539477547926</td>\n",
              "      <td>https://earthquake.usgs.gov/earthquakes/eventp...</td>\n",
              "    </tr>\n",
              "  </tbody>\n",
              "</table>\n",
              "</div>"
            ],
            "text/plain": [
              "  alert  cdi  ...        updated                                                url\n",
              "0   NaN  NaN  ...  1539475395144  https://earthquake.usgs.gov/earthquakes/eventp...\n",
              "1   NaN  NaN  ...  1539475253925  https://earthquake.usgs.gov/earthquakes/eventp...\n",
              "2   NaN  4.4  ...  1539536756176  https://earthquake.usgs.gov/earthquakes/eventp...\n",
              "3   NaN  NaN  ...  1539475196167  https://earthquake.usgs.gov/earthquakes/eventp...\n",
              "4   NaN  NaN  ...  1539477547926  https://earthquake.usgs.gov/earthquakes/eventp...\n",
              "\n",
              "[5 rows x 26 columns]"
            ]
          },
          "metadata": {},
          "execution_count": 97
        }
      ]
    },
    {
      "cell_type": "code",
      "metadata": {
        "colab": {
          "base_uri": "https://localhost:8080/"
        },
        "id": "pdG_x1wQe-J5",
        "outputId": "b10cdc7f-3ab4-49f7-9a28-d12f66f905c9"
      },
      "source": [
        "# How many earthquake have magType 'ml' and type 'explosion'? \n",
        "A = data[(data.type == 'explosion') & (data.magType == 'ml')]\n",
        "A.shape"
      ],
      "execution_count": 94,
      "outputs": [
        {
          "output_type": "execute_result",
          "data": {
            "text/plain": [
              "(79, 26)"
            ]
          },
          "metadata": {},
          "execution_count": 94
        }
      ]
    },
    {
      "cell_type": "code",
      "metadata": {
        "colab": {
          "base_uri": "https://localhost:8080/"
        },
        "id": "bvDTJJrHcwcd",
        "outputId": "455140ba-d1cb-4f3f-c4ab-e9ca260a542c"
      },
      "source": [
        "# Câu 2:\n",
        "data['km'] = data['place']\n",
        "data['km'] = data['km'].str.replace(r'\\D+', '')\n",
        "data['km'] = pd.to_numeric(data['km'],downcast='integer')\n",
        "B = data[(data['km']<100)& (data.place.str.contains('Alaska'))]\n",
        "print(B[['place','km']])\n",
        "print(\"Trung bình: \",B['mag'].mean())"
      ],
      "execution_count": 60,
      "outputs": [
        {
          "output_type": "stream",
          "name": "stdout",
          "text": [
            "                                  place    km\n",
            "18         57km SSW of Kaktovik, Alaska  57.0\n",
            "21           64km SSW of Salcha, Alaska  64.0\n",
            "27    43km S of Redoubt Volcano, Alaska  43.0\n",
            "28      86km SW of Anchor Point, Alaska  86.0\n",
            "31          79km SW of Kaktovik, Alaska  79.0\n",
            "...                                 ...   ...\n",
            "9305   49km W of Tanaga Volcano, Alaska  49.0\n",
            "9308        70km NW of Nikolski, Alaska  70.0\n",
            "9310  59km NNE of Sutton-Alpine, Alaska  59.0\n",
            "9313       88km ESE of Whittier, Alaska  88.0\n",
            "9318            11km E of Healy, Alaska  11.0\n",
            "\n",
            "[2846 rows x 2 columns]\n",
            "Trung bình:  1.3699648629655647\n"
          ]
        }
      ]
    },
    {
      "cell_type": "code",
      "metadata": {
        "id": "KKHZ9hMYxb9R",
        "colab": {
          "base_uri": "https://localhost:8080/"
        },
        "outputId": "9e230789-4c94-4e92-9bb9-ee81029efb01"
      },
      "source": [
        "#Ex3: Calculate the mean of mag in each quarter\n",
        "#  (q1:m1-m3, q2: m4-m6, q3: m7-m9, q4: m10-12),\n",
        "#  the \"time\" field stores the milliseconds from 1/1/1970, hint: timestamp\n",
        "from datetime import datetime\n",
        "print(data)\n",
        "data['time_2'] = data['time']\n",
        "data['time_2'] = pd.to_datetime(data['time_2'],unit = 'ms')\n",
        "data['month'] = pd.DatetimeIndex(data['time_2']).month\n",
        "C = data[data['month']<=3]\n",
        "print(C['mag'].mean())\n",
        "D = data[(data['month']>=4)& (data['month']<=6)]\n",
        "print(D['mag'].mean())\n",
        "E = data[(data['month']>=7)& (data['month']<=9)]\n",
        "print(E['mag'].mean())\n",
        "F = data[(data['month']>=10)& (data['month']<=12)]\n",
        "print(F['mag'].mean())"
      ],
      "execution_count": 115,
      "outputs": [
        {
          "output_type": "stream",
          "name": "stdout",
          "text": [
            "     alert  cdi  ...                  time_2 month\n",
            "0      NaN  NaN  ... 2018-10-13 23:59:28.010    10\n",
            "1      NaN  NaN  ... 2018-10-13 23:58:49.610    10\n",
            "2      NaN  4.4  ... 2018-10-13 23:57:42.610    10\n",
            "3      NaN  NaN  ... 2018-10-13 23:56:18.070    10\n",
            "4      NaN  NaN  ... 2018-10-13 23:51:56.050    10\n",
            "...    ...  ...  ...                     ...   ...\n",
            "9327   NaN  NaN  ... 2018-09-18 00:23:48.060     9\n",
            "9328   NaN  NaN  ... 2018-09-18 00:22:15.130     9\n",
            "9329   NaN  NaN  ... 2018-09-18 00:18:28.180     9\n",
            "9330   NaN  NaN  ... 2018-09-18 00:12:25.350     9\n",
            "9331   NaN  NaN  ... 2018-09-18 00:01:04.470     9\n",
            "\n",
            "[9332 rows x 28 columns]\n",
            "nan\n",
            "nan\n",
            "1.466735124760082\n",
            "1.5360446493569568\n"
          ]
        }
      ]
    }
  ]
}